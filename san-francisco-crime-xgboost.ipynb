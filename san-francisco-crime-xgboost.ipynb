{
 "cells": [
  {
   "cell_type": "markdown",
   "id": "d62b3817",
   "metadata": {
    "papermill": {
     "duration": 0.016737,
     "end_time": "2022-05-25T20:38:18.049490",
     "exception": false,
     "start_time": "2022-05-25T20:38:18.032753",
     "status": "completed"
    },
    "tags": []
   },
   "source": [
    "<div class=\"alert alert-secondary\" role=\"alert\">\n",
    "    <h1 align = 'center'>San Francisco Crime Classification</h1>\n",
    "    <h4 align = 'center' class=\"mb-0\">Predict the category of crimes that occurred in the city by the bay</h4>\n",
    "</div>"
   ]
  },
  {
   "cell_type": "markdown",
   "id": "1d0040b0",
   "metadata": {
    "papermill": {
     "duration": 0.011493,
     "end_time": "2022-05-25T20:38:18.073625",
     "exception": false,
     "start_time": "2022-05-25T20:38:18.062132",
     "status": "completed"
    },
    "tags": []
   },
   "source": [
    "# 1: Importing The Libraries"
   ]
  },
  {
   "cell_type": "code",
   "execution_count": 1,
   "id": "2d08a171",
   "metadata": {
    "execution": {
     "iopub.execute_input": "2022-05-25T20:38:18.101607Z",
     "iopub.status.busy": "2022-05-25T20:38:18.100755Z",
     "iopub.status.idle": "2022-05-25T20:38:19.740364Z",
     "shell.execute_reply": "2022-05-25T20:38:19.739514Z"
    },
    "papermill": {
     "duration": 1.657768,
     "end_time": "2022-05-25T20:38:19.742756",
     "exception": false,
     "start_time": "2022-05-25T20:38:18.084988",
     "status": "completed"
    },
    "tags": []
   },
   "outputs": [],
   "source": [
    "import pandas as pd\n",
    "import numpy as np\n",
    "import matplotlib.pyplot as plt\n",
    "import seaborn as sns\n",
    "from sklearn.preprocessing import LabelEncoder\n",
    "from sklearn.model_selection import train_test_split\n",
    "from sklearn.preprocessing import MinMaxScaler\n",
    "from sklearn.preprocessing import StandardScaler\n",
    "from sklearn.tree import DecisionTreeClassifier\n",
    "from sklearn.neighbors import KNeighborsClassifier\n",
    "from sklearn.metrics import accuracy_score\n",
    "from sklearn.ensemble import RandomForestClassifier\n",
    "from sklearn.tree import DecisionTreeClassifier\n",
    "from xgboost import XGBClassifier"
   ]
  },
  {
   "cell_type": "markdown",
   "id": "b5dc7685",
   "metadata": {
    "papermill": {
     "duration": 0.010797,
     "end_time": "2022-05-25T20:38:19.764394",
     "exception": false,
     "start_time": "2022-05-25T20:38:19.753597",
     "status": "completed"
    },
    "tags": []
   },
   "source": [
    "# 2: Load Dateset"
   ]
  },
  {
   "cell_type": "code",
   "execution_count": 2,
   "id": "ac1fc855",
   "metadata": {
    "execution": {
     "iopub.execute_input": "2022-05-25T20:38:19.788778Z",
     "iopub.status.busy": "2022-05-25T20:38:19.788018Z",
     "iopub.status.idle": "2022-05-25T20:38:24.997075Z",
     "shell.execute_reply": "2022-05-25T20:38:24.996380Z"
    },
    "papermill": {
     "duration": 5.22423,
     "end_time": "2022-05-25T20:38:24.999476",
     "exception": false,
     "start_time": "2022-05-25T20:38:19.775246",
     "status": "completed"
    },
    "tags": []
   },
   "outputs": [
    {
     "data": {
      "text/html": [
       "<div>\n",
       "<style scoped>\n",
       "    .dataframe tbody tr th:only-of-type {\n",
       "        vertical-align: middle;\n",
       "    }\n",
       "\n",
       "    .dataframe tbody tr th {\n",
       "        vertical-align: top;\n",
       "    }\n",
       "\n",
       "    .dataframe thead th {\n",
       "        text-align: right;\n",
       "    }\n",
       "</style>\n",
       "<table border=\"1\" class=\"dataframe\">\n",
       "  <thead>\n",
       "    <tr style=\"text-align: right;\">\n",
       "      <th></th>\n",
       "      <th>Dates</th>\n",
       "      <th>Category</th>\n",
       "      <th>Descript</th>\n",
       "      <th>DayOfWeek</th>\n",
       "      <th>PdDistrict</th>\n",
       "      <th>Resolution</th>\n",
       "      <th>Address</th>\n",
       "      <th>X</th>\n",
       "      <th>Y</th>\n",
       "    </tr>\n",
       "  </thead>\n",
       "  <tbody>\n",
       "    <tr>\n",
       "      <th>0</th>\n",
       "      <td>2015-05-13 23:53:00</td>\n",
       "      <td>WARRANTS</td>\n",
       "      <td>WARRANT ARREST</td>\n",
       "      <td>Wednesday</td>\n",
       "      <td>NORTHERN</td>\n",
       "      <td>ARREST, BOOKED</td>\n",
       "      <td>OAK ST / LAGUNA ST</td>\n",
       "      <td>-122.425892</td>\n",
       "      <td>37.774599</td>\n",
       "    </tr>\n",
       "    <tr>\n",
       "      <th>1</th>\n",
       "      <td>2015-05-13 23:53:00</td>\n",
       "      <td>OTHER OFFENSES</td>\n",
       "      <td>TRAFFIC VIOLATION ARREST</td>\n",
       "      <td>Wednesday</td>\n",
       "      <td>NORTHERN</td>\n",
       "      <td>ARREST, BOOKED</td>\n",
       "      <td>OAK ST / LAGUNA ST</td>\n",
       "      <td>-122.425892</td>\n",
       "      <td>37.774599</td>\n",
       "    </tr>\n",
       "    <tr>\n",
       "      <th>2</th>\n",
       "      <td>2015-05-13 23:33:00</td>\n",
       "      <td>OTHER OFFENSES</td>\n",
       "      <td>TRAFFIC VIOLATION ARREST</td>\n",
       "      <td>Wednesday</td>\n",
       "      <td>NORTHERN</td>\n",
       "      <td>ARREST, BOOKED</td>\n",
       "      <td>VANNESS AV / GREENWICH ST</td>\n",
       "      <td>-122.424363</td>\n",
       "      <td>37.800414</td>\n",
       "    </tr>\n",
       "    <tr>\n",
       "      <th>3</th>\n",
       "      <td>2015-05-13 23:30:00</td>\n",
       "      <td>LARCENY/THEFT</td>\n",
       "      <td>GRAND THEFT FROM LOCKED AUTO</td>\n",
       "      <td>Wednesday</td>\n",
       "      <td>NORTHERN</td>\n",
       "      <td>NONE</td>\n",
       "      <td>1500 Block of LOMBARD ST</td>\n",
       "      <td>-122.426995</td>\n",
       "      <td>37.800873</td>\n",
       "    </tr>\n",
       "    <tr>\n",
       "      <th>4</th>\n",
       "      <td>2015-05-13 23:30:00</td>\n",
       "      <td>LARCENY/THEFT</td>\n",
       "      <td>GRAND THEFT FROM LOCKED AUTO</td>\n",
       "      <td>Wednesday</td>\n",
       "      <td>PARK</td>\n",
       "      <td>NONE</td>\n",
       "      <td>100 Block of BRODERICK ST</td>\n",
       "      <td>-122.438738</td>\n",
       "      <td>37.771541</td>\n",
       "    </tr>\n",
       "  </tbody>\n",
       "</table>\n",
       "</div>"
      ],
      "text/plain": [
       "                 Dates        Category                      Descript  \\\n",
       "0  2015-05-13 23:53:00        WARRANTS                WARRANT ARREST   \n",
       "1  2015-05-13 23:53:00  OTHER OFFENSES      TRAFFIC VIOLATION ARREST   \n",
       "2  2015-05-13 23:33:00  OTHER OFFENSES      TRAFFIC VIOLATION ARREST   \n",
       "3  2015-05-13 23:30:00   LARCENY/THEFT  GRAND THEFT FROM LOCKED AUTO   \n",
       "4  2015-05-13 23:30:00   LARCENY/THEFT  GRAND THEFT FROM LOCKED AUTO   \n",
       "\n",
       "   DayOfWeek PdDistrict      Resolution                    Address  \\\n",
       "0  Wednesday   NORTHERN  ARREST, BOOKED         OAK ST / LAGUNA ST   \n",
       "1  Wednesday   NORTHERN  ARREST, BOOKED         OAK ST / LAGUNA ST   \n",
       "2  Wednesday   NORTHERN  ARREST, BOOKED  VANNESS AV / GREENWICH ST   \n",
       "3  Wednesday   NORTHERN            NONE   1500 Block of LOMBARD ST   \n",
       "4  Wednesday       PARK            NONE  100 Block of BRODERICK ST   \n",
       "\n",
       "            X          Y  \n",
       "0 -122.425892  37.774599  \n",
       "1 -122.425892  37.774599  \n",
       "2 -122.424363  37.800414  \n",
       "3 -122.426995  37.800873  \n",
       "4 -122.438738  37.771541  "
      ]
     },
     "execution_count": 2,
     "metadata": {},
     "output_type": "execute_result"
    }
   ],
   "source": [
    "df = pd.read_csv('../input/sf-crime/train.csv.zip')\n",
    "unseen_data = pd.read_csv('../input/sf-crime/test.csv.zip')\n",
    "df.head()"
   ]
  },
  {
   "cell_type": "markdown",
   "id": "a5a3b614",
   "metadata": {
    "papermill": {
     "duration": 0.010517,
     "end_time": "2022-05-25T20:38:25.021155",
     "exception": false,
     "start_time": "2022-05-25T20:38:25.010638",
     "status": "completed"
    },
    "tags": []
   },
   "source": [
    "# 3: EDA & Storytelling"
   ]
  },
  {
   "cell_type": "code",
   "execution_count": 3,
   "id": "2eca558d",
   "metadata": {
    "execution": {
     "iopub.execute_input": "2022-05-25T20:38:25.045028Z",
     "iopub.status.busy": "2022-05-25T20:38:25.044400Z",
     "iopub.status.idle": "2022-05-25T20:38:25.049900Z",
     "shell.execute_reply": "2022-05-25T20:38:25.049087Z"
    },
    "papermill": {
     "duration": 0.019725,
     "end_time": "2022-05-25T20:38:25.051816",
     "exception": false,
     "start_time": "2022-05-25T20:38:25.032091",
     "status": "completed"
    },
    "tags": []
   },
   "outputs": [
    {
     "data": {
      "text/plain": [
       "(878049, 9)"
      ]
     },
     "execution_count": 3,
     "metadata": {},
     "output_type": "execute_result"
    }
   ],
   "source": [
    "df.shape"
   ]
  },
  {
   "cell_type": "code",
   "execution_count": 4,
   "id": "6f8bb627",
   "metadata": {
    "execution": {
     "iopub.execute_input": "2022-05-25T20:38:25.077330Z",
     "iopub.status.busy": "2022-05-25T20:38:25.076919Z",
     "iopub.status.idle": "2022-05-25T20:38:25.748188Z",
     "shell.execute_reply": "2022-05-25T20:38:25.747227Z"
    },
    "papermill": {
     "duration": 0.686502,
     "end_time": "2022-05-25T20:38:25.750513",
     "exception": false,
     "start_time": "2022-05-25T20:38:25.064011",
     "status": "completed"
    },
    "tags": []
   },
   "outputs": [
    {
     "name": "stdout",
     "output_type": "stream",
     "text": [
      "<class 'pandas.core.frame.DataFrame'>\n",
      "RangeIndex: 878049 entries, 0 to 878048\n",
      "Data columns (total 9 columns):\n",
      " #   Column      Non-Null Count   Dtype  \n",
      "---  ------      --------------   -----  \n",
      " 0   Dates       878049 non-null  object \n",
      " 1   Category    878049 non-null  object \n",
      " 2   Descript    878049 non-null  object \n",
      " 3   DayOfWeek   878049 non-null  object \n",
      " 4   PdDistrict  878049 non-null  object \n",
      " 5   Resolution  878049 non-null  object \n",
      " 6   Address     878049 non-null  object \n",
      " 7   X           878049 non-null  float64\n",
      " 8   Y           878049 non-null  float64\n",
      "dtypes: float64(2), object(7)\n",
      "memory usage: 60.3+ MB\n"
     ]
    }
   ],
   "source": [
    "df.info()"
   ]
  },
  {
   "cell_type": "code",
   "execution_count": 5,
   "id": "b69f5a6a",
   "metadata": {
    "execution": {
     "iopub.execute_input": "2022-05-25T20:38:25.773811Z",
     "iopub.status.busy": "2022-05-25T20:38:25.773432Z",
     "iopub.status.idle": "2022-05-25T20:38:26.711636Z",
     "shell.execute_reply": "2022-05-25T20:38:26.711006Z"
    },
    "papermill": {
     "duration": 0.952097,
     "end_time": "2022-05-25T20:38:26.713446",
     "exception": false,
     "start_time": "2022-05-25T20:38:25.761349",
     "status": "completed"
    },
    "tags": []
   },
   "outputs": [
    {
     "data": {
      "text/plain": [
       "2323"
      ]
     },
     "execution_count": 5,
     "metadata": {},
     "output_type": "execute_result"
    }
   ],
   "source": [
    "#check for duplicated values\n",
    "df.duplicated().sum()"
   ]
  },
  {
   "cell_type": "code",
   "execution_count": 6,
   "id": "5bd4976c",
   "metadata": {
    "execution": {
     "iopub.execute_input": "2022-05-25T20:38:26.737562Z",
     "iopub.status.busy": "2022-05-25T20:38:26.737058Z",
     "iopub.status.idle": "2022-05-25T20:38:27.717196Z",
     "shell.execute_reply": "2022-05-25T20:38:27.716548Z"
    },
    "papermill": {
     "duration": 0.994534,
     "end_time": "2022-05-25T20:38:27.718980",
     "exception": false,
     "start_time": "2022-05-25T20:38:26.724446",
     "status": "completed"
    },
    "tags": []
   },
   "outputs": [
    {
     "data": {
      "text/plain": [
       "(875726, 9)"
      ]
     },
     "execution_count": 6,
     "metadata": {},
     "output_type": "execute_result"
    }
   ],
   "source": [
    "#drop duplicated values\n",
    "df.drop_duplicates(keep = 'first', inplace = True)\n",
    "df.shape"
   ]
  },
  {
   "cell_type": "code",
   "execution_count": 7,
   "id": "177dcd34",
   "metadata": {
    "execution": {
     "iopub.execute_input": "2022-05-25T20:38:27.743082Z",
     "iopub.status.busy": "2022-05-25T20:38:27.742569Z",
     "iopub.status.idle": "2022-05-25T20:38:27.748157Z",
     "shell.execute_reply": "2022-05-25T20:38:27.747274Z"
    },
    "papermill": {
     "duration": 0.019926,
     "end_time": "2022-05-25T20:38:27.750118",
     "exception": false,
     "start_time": "2022-05-25T20:38:27.730192",
     "status": "completed"
    },
    "tags": []
   },
   "outputs": [
    {
     "data": {
      "text/plain": [
       "Index(['Dates', 'Category', 'Descript', 'DayOfWeek', 'PdDistrict',\n",
       "       'Resolution', 'Address', 'X', 'Y'],\n",
       "      dtype='object')"
      ]
     },
     "execution_count": 7,
     "metadata": {},
     "output_type": "execute_result"
    }
   ],
   "source": [
    "df.columns"
   ]
  },
  {
   "cell_type": "code",
   "execution_count": 8,
   "id": "7974421c",
   "metadata": {
    "execution": {
     "iopub.execute_input": "2022-05-25T20:38:27.774381Z",
     "iopub.status.busy": "2022-05-25T20:38:27.774005Z",
     "iopub.status.idle": "2022-05-25T20:38:28.516037Z",
     "shell.execute_reply": "2022-05-25T20:38:28.515328Z"
    },
    "papermill": {
     "duration": 0.75634,
     "end_time": "2022-05-25T20:38:28.517871",
     "exception": false,
     "start_time": "2022-05-25T20:38:27.761531",
     "status": "completed"
    },
    "tags": []
   },
   "outputs": [
    {
     "data": {
      "text/plain": [
       "Dates         389257\n",
       "Category          39\n",
       "Descript         879\n",
       "DayOfWeek          7\n",
       "PdDistrict        10\n",
       "Resolution        17\n",
       "Address        23228\n",
       "X              34243\n",
       "Y              34243\n",
       "dtype: int64"
      ]
     },
     "execution_count": 8,
     "metadata": {},
     "output_type": "execute_result"
    }
   ],
   "source": [
    "df.nunique()"
   ]
  },
  {
   "cell_type": "code",
   "execution_count": 9,
   "id": "3c83da05",
   "metadata": {
    "execution": {
     "iopub.execute_input": "2022-05-25T20:38:28.543323Z",
     "iopub.status.busy": "2022-05-25T20:38:28.542584Z",
     "iopub.status.idle": "2022-05-25T20:38:28.685133Z",
     "shell.execute_reply": "2022-05-25T20:38:28.684170Z"
    },
    "papermill": {
     "duration": 0.157679,
     "end_time": "2022-05-25T20:38:28.687225",
     "exception": false,
     "start_time": "2022-05-25T20:38:28.529546",
     "status": "completed"
    },
    "tags": []
   },
   "outputs": [
    {
     "data": {
      "text/plain": [
       "LARCENY/THEFT                  174320\n",
       "OTHER OFFENSES                 125960\n",
       "NON-CRIMINAL                    91915\n",
       "ASSAULT                         76815\n",
       "DRUG/NARCOTIC                   53919\n",
       "VEHICLE THEFT                   53706\n",
       "VANDALISM                       44581\n",
       "WARRANTS                        42145\n",
       "BURGLARY                        36600\n",
       "SUSPICIOUS OCC                  31394\n",
       "MISSING PERSON                  25669\n",
       "ROBBERY                         22988\n",
       "FRAUD                           16637\n",
       "FORGERY/COUNTERFEITING          10592\n",
       "SECONDARY CODES                  9979\n",
       "WEAPON LAWS                      8550\n",
       "PROSTITUTION                     7446\n",
       "TRESPASS                         7318\n",
       "STOLEN PROPERTY                  4537\n",
       "SEX OFFENSES FORCIBLE            4380\n",
       "DISORDERLY CONDUCT               4313\n",
       "DRUNKENNESS                      4277\n",
       "RECOVERED VEHICLE                3132\n",
       "KIDNAPPING                       2340\n",
       "DRIVING UNDER THE INFLUENCE      2268\n",
       "LIQUOR LAWS                      1899\n",
       "RUNAWAY                          1894\n",
       "ARSON                            1512\n",
       "LOITERING                        1207\n",
       "EMBEZZLEMENT                     1164\n",
       "SUICIDE                           508\n",
       "FAMILY OFFENSES                   488\n",
       "BAD CHECKS                        406\n",
       "BRIBERY                           289\n",
       "EXTORTION                         256\n",
       "SEX OFFENSES NON FORCIBLE         148\n",
       "GAMBLING                          146\n",
       "PORNOGRAPHY/OBSCENE MAT            22\n",
       "TREA                                6\n",
       "Name: Category, dtype: int64"
      ]
     },
     "execution_count": 9,
     "metadata": {},
     "output_type": "execute_result"
    }
   ],
   "source": [
    "df.Category.value_counts()"
   ]
  },
  {
   "cell_type": "code",
   "execution_count": 10,
   "id": "0ccf4814",
   "metadata": {
    "execution": {
     "iopub.execute_input": "2022-05-25T20:38:28.712912Z",
     "iopub.status.busy": "2022-05-25T20:38:28.712544Z",
     "iopub.status.idle": "2022-05-25T20:38:28.858448Z",
     "shell.execute_reply": "2022-05-25T20:38:28.857623Z"
    },
    "papermill": {
     "duration": 0.160979,
     "end_time": "2022-05-25T20:38:28.860260",
     "exception": false,
     "start_time": "2022-05-25T20:38:28.699281",
     "status": "completed"
    },
    "tags": []
   },
   "outputs": [
    {
     "data": {
      "text/plain": [
       "NONE                                      525122\n",
       "ARREST, BOOKED                            206173\n",
       "ARREST, CITED                              76832\n",
       "LOCATED                                    16889\n",
       "PSYCHOPATHIC CASE                          14529\n",
       "UNFOUNDED                                   9577\n",
       "JUVENILE BOOKED                             5564\n",
       "COMPLAINANT REFUSES TO PROSECUTE            3969\n",
       "DISTRICT ATTORNEY REFUSES TO PROSECUTE      3934\n",
       "NOT PROSECUTED                              3710\n",
       "JUVENILE CITED                              3322\n",
       "PROSECUTED BY OUTSIDE AGENCY                2503\n",
       "EXCEPTIONAL CLEARANCE                       1528\n",
       "JUVENILE ADMONISHED                         1451\n",
       "JUVENILE DIVERTED                            355\n",
       "CLEARED-CONTACT JUVENILE FOR MORE INFO       217\n",
       "PROSECUTED FOR LESSER OFFENSE                 51\n",
       "Name: Resolution, dtype: int64"
      ]
     },
     "execution_count": 10,
     "metadata": {},
     "output_type": "execute_result"
    }
   ],
   "source": [
    "df.Resolution.value_counts()"
   ]
  },
  {
   "cell_type": "code",
   "execution_count": 11,
   "id": "dae9f590",
   "metadata": {
    "execution": {
     "iopub.execute_input": "2022-05-25T20:38:28.886055Z",
     "iopub.status.busy": "2022-05-25T20:38:28.885631Z",
     "iopub.status.idle": "2022-05-25T20:38:29.983811Z",
     "shell.execute_reply": "2022-05-25T20:38:29.982912Z"
    },
    "papermill": {
     "duration": 1.113422,
     "end_time": "2022-05-25T20:38:29.985849",
     "exception": false,
     "start_time": "2022-05-25T20:38:28.872427",
     "status": "completed"
    },
    "tags": []
   },
   "outputs": [
    {
     "data": {
      "text/plain": [
       "Category         object\n",
       "Descript         object\n",
       "PdDistrict       object\n",
       "Resolution       object\n",
       "Address          object\n",
       "X               float64\n",
       "Y               float64\n",
       "year              int64\n",
       "month             int64\n",
       "day_of_month      int64\n",
       "day_of_week       int64\n",
       "hour              int64\n",
       "dtype: object"
      ]
     },
     "execution_count": 11,
     "metadata": {},
     "output_type": "execute_result"
    }
   ],
   "source": [
    "df['Dates'] = pd.to_datetime(df['Dates'])\n",
    "\n",
    "df['year'] = df['Dates'].dt.year\n",
    "df['month'] = df['Dates'].dt.month\n",
    "df['day_of_month'] = df['Dates'].dt.day\n",
    "df['day_of_week'] = df['Dates'].dt.day_of_week\n",
    "df['hour'] = df['Dates'].dt.hour\n",
    "df.drop(['Dates', 'DayOfWeek'], axis = 1, inplace = True)\n",
    "df.dtypes"
   ]
  },
  {
   "cell_type": "code",
   "execution_count": 12,
   "id": "a0dd4790",
   "metadata": {
    "execution": {
     "iopub.execute_input": "2022-05-25T20:38:30.013705Z",
     "iopub.status.busy": "2022-05-25T20:38:30.012934Z",
     "iopub.status.idle": "2022-05-25T20:38:30.020561Z",
     "shell.execute_reply": "2022-05-25T20:38:30.019652Z"
    },
    "papermill": {
     "duration": 0.024621,
     "end_time": "2022-05-25T20:38:30.022527",
     "exception": false,
     "start_time": "2022-05-25T20:38:29.997906",
     "status": "completed"
    },
    "tags": []
   },
   "outputs": [],
   "source": [
    "df.columns = [item.lower() for item in df.columns]"
   ]
  },
  {
   "cell_type": "code",
   "execution_count": 13,
   "id": "1f18a5b9",
   "metadata": {
    "execution": {
     "iopub.execute_input": "2022-05-25T20:38:30.050392Z",
     "iopub.status.busy": "2022-05-25T20:38:30.048425Z",
     "iopub.status.idle": "2022-05-25T20:38:30.274752Z",
     "shell.execute_reply": "2022-05-25T20:38:30.273902Z"
    },
    "papermill": {
     "duration": 0.241732,
     "end_time": "2022-05-25T20:38:30.276670",
     "exception": false,
     "start_time": "2022-05-25T20:38:30.034938",
     "status": "completed"
    },
    "tags": []
   },
   "outputs": [
    {
     "data": {
      "text/html": [
       "<div>\n",
       "<style scoped>\n",
       "    .dataframe tbody tr th:only-of-type {\n",
       "        vertical-align: middle;\n",
       "    }\n",
       "\n",
       "    .dataframe tbody tr th {\n",
       "        vertical-align: top;\n",
       "    }\n",
       "\n",
       "    .dataframe thead th {\n",
       "        text-align: right;\n",
       "    }\n",
       "</style>\n",
       "<table border=\"1\" class=\"dataframe\">\n",
       "  <thead>\n",
       "    <tr style=\"text-align: right;\">\n",
       "      <th>category</th>\n",
       "      <th>ARSON</th>\n",
       "      <th>ASSAULT</th>\n",
       "      <th>BAD CHECKS</th>\n",
       "      <th>BRIBERY</th>\n",
       "      <th>BURGLARY</th>\n",
       "      <th>DISORDERLY CONDUCT</th>\n",
       "      <th>DRIVING UNDER THE INFLUENCE</th>\n",
       "      <th>DRUG/NARCOTIC</th>\n",
       "      <th>DRUNKENNESS</th>\n",
       "      <th>EMBEZZLEMENT</th>\n",
       "      <th>...</th>\n",
       "      <th>SEX OFFENSES NON FORCIBLE</th>\n",
       "      <th>STOLEN PROPERTY</th>\n",
       "      <th>SUICIDE</th>\n",
       "      <th>SUSPICIOUS OCC</th>\n",
       "      <th>TREA</th>\n",
       "      <th>TRESPASS</th>\n",
       "      <th>VANDALISM</th>\n",
       "      <th>VEHICLE THEFT</th>\n",
       "      <th>WARRANTS</th>\n",
       "      <th>WEAPON LAWS</th>\n",
       "    </tr>\n",
       "    <tr>\n",
       "      <th>day_of_week</th>\n",
       "      <th></th>\n",
       "      <th></th>\n",
       "      <th></th>\n",
       "      <th></th>\n",
       "      <th></th>\n",
       "      <th></th>\n",
       "      <th></th>\n",
       "      <th></th>\n",
       "      <th></th>\n",
       "      <th></th>\n",
       "      <th></th>\n",
       "      <th></th>\n",
       "      <th></th>\n",
       "      <th></th>\n",
       "      <th></th>\n",
       "      <th></th>\n",
       "      <th></th>\n",
       "      <th></th>\n",
       "      <th></th>\n",
       "      <th></th>\n",
       "      <th></th>\n",
       "    </tr>\n",
       "  </thead>\n",
       "  <tbody>\n",
       "    <tr>\n",
       "      <th>0</th>\n",
       "      <td>228</td>\n",
       "      <td>10550</td>\n",
       "      <td>66</td>\n",
       "      <td>41</td>\n",
       "      <td>5239</td>\n",
       "      <td>607</td>\n",
       "      <td>263</td>\n",
       "      <td>7812</td>\n",
       "      <td>512</td>\n",
       "      <td>222</td>\n",
       "      <td>...</td>\n",
       "      <td>23</td>\n",
       "      <td>636</td>\n",
       "      <td>75</td>\n",
       "      <td>4445</td>\n",
       "      <td>1</td>\n",
       "      <td>1080</td>\n",
       "      <td>5916</td>\n",
       "      <td>7401</td>\n",
       "      <td>5804</td>\n",
       "      <td>1182</td>\n",
       "    </tr>\n",
       "    <tr>\n",
       "      <th>1</th>\n",
       "      <td>235</td>\n",
       "      <td>10268</td>\n",
       "      <td>76</td>\n",
       "      <td>37</td>\n",
       "      <td>5356</td>\n",
       "      <td>657</td>\n",
       "      <td>251</td>\n",
       "      <td>8463</td>\n",
       "      <td>461</td>\n",
       "      <td>156</td>\n",
       "      <td>...</td>\n",
       "      <td>23</td>\n",
       "      <td>713</td>\n",
       "      <td>66</td>\n",
       "      <td>4513</td>\n",
       "      <td>1</td>\n",
       "      <td>1113</td>\n",
       "      <td>5844</td>\n",
       "      <td>7262</td>\n",
       "      <td>6412</td>\n",
       "      <td>1176</td>\n",
       "    </tr>\n",
       "    <tr>\n",
       "      <th>2</th>\n",
       "      <td>200</td>\n",
       "      <td>10549</td>\n",
       "      <td>71</td>\n",
       "      <td>40</td>\n",
       "      <td>5430</td>\n",
       "      <td>658</td>\n",
       "      <td>221</td>\n",
       "      <td>9259</td>\n",
       "      <td>541</td>\n",
       "      <td>165</td>\n",
       "      <td>...</td>\n",
       "      <td>22</td>\n",
       "      <td>699</td>\n",
       "      <td>66</td>\n",
       "      <td>4849</td>\n",
       "      <td>0</td>\n",
       "      <td>1120</td>\n",
       "      <td>5904</td>\n",
       "      <td>7393</td>\n",
       "      <td>7009</td>\n",
       "      <td>1251</td>\n",
       "    </tr>\n",
       "    <tr>\n",
       "      <th>3</th>\n",
       "      <td>199</td>\n",
       "      <td>10236</td>\n",
       "      <td>66</td>\n",
       "      <td>39</td>\n",
       "      <td>5336</td>\n",
       "      <td>643</td>\n",
       "      <td>282</td>\n",
       "      <td>8447</td>\n",
       "      <td>496</td>\n",
       "      <td>165</td>\n",
       "      <td>...</td>\n",
       "      <td>15</td>\n",
       "      <td>678</td>\n",
       "      <td>89</td>\n",
       "      <td>4504</td>\n",
       "      <td>1</td>\n",
       "      <td>1046</td>\n",
       "      <td>5968</td>\n",
       "      <td>7449</td>\n",
       "      <td>6365</td>\n",
       "      <td>1281</td>\n",
       "    </tr>\n",
       "    <tr>\n",
       "      <th>4</th>\n",
       "      <td>220</td>\n",
       "      <td>11155</td>\n",
       "      <td>62</td>\n",
       "      <td>49</td>\n",
       "      <td>6302</td>\n",
       "      <td>540</td>\n",
       "      <td>352</td>\n",
       "      <td>7415</td>\n",
       "      <td>621</td>\n",
       "      <td>211</td>\n",
       "      <td>...</td>\n",
       "      <td>28</td>\n",
       "      <td>647</td>\n",
       "      <td>72</td>\n",
       "      <td>4921</td>\n",
       "      <td>1</td>\n",
       "      <td>1062</td>\n",
       "      <td>7071</td>\n",
       "      <td>8597</td>\n",
       "      <td>5921</td>\n",
       "      <td>1302</td>\n",
       "    </tr>\n",
       "    <tr>\n",
       "      <th>5</th>\n",
       "      <td>219</td>\n",
       "      <td>11987</td>\n",
       "      <td>45</td>\n",
       "      <td>42</td>\n",
       "      <td>4732</td>\n",
       "      <td>624</td>\n",
       "      <td>457</td>\n",
       "      <td>6385</td>\n",
       "      <td>833</td>\n",
       "      <td>137</td>\n",
       "      <td>...</td>\n",
       "      <td>21</td>\n",
       "      <td>581</td>\n",
       "      <td>73</td>\n",
       "      <td>4154</td>\n",
       "      <td>2</td>\n",
       "      <td>982</td>\n",
       "      <td>7301</td>\n",
       "      <td>8108</td>\n",
       "      <td>5355</td>\n",
       "      <td>1231</td>\n",
       "    </tr>\n",
       "    <tr>\n",
       "      <th>6</th>\n",
       "      <td>211</td>\n",
       "      <td>12070</td>\n",
       "      <td>20</td>\n",
       "      <td>41</td>\n",
       "      <td>4205</td>\n",
       "      <td>584</td>\n",
       "      <td>442</td>\n",
       "      <td>6138</td>\n",
       "      <td>813</td>\n",
       "      <td>108</td>\n",
       "      <td>...</td>\n",
       "      <td>16</td>\n",
       "      <td>583</td>\n",
       "      <td>67</td>\n",
       "      <td>4008</td>\n",
       "      <td>0</td>\n",
       "      <td>915</td>\n",
       "      <td>6577</td>\n",
       "      <td>7496</td>\n",
       "      <td>5279</td>\n",
       "      <td>1127</td>\n",
       "    </tr>\n",
       "  </tbody>\n",
       "</table>\n",
       "<p>7 rows × 39 columns</p>\n",
       "</div>"
      ],
      "text/plain": [
       "category     ARSON  ASSAULT  BAD CHECKS  BRIBERY  BURGLARY  \\\n",
       "day_of_week                                                  \n",
       "0              228    10550          66       41      5239   \n",
       "1              235    10268          76       37      5356   \n",
       "2              200    10549          71       40      5430   \n",
       "3              199    10236          66       39      5336   \n",
       "4              220    11155          62       49      6302   \n",
       "5              219    11987          45       42      4732   \n",
       "6              211    12070          20       41      4205   \n",
       "\n",
       "category     DISORDERLY CONDUCT  DRIVING UNDER THE INFLUENCE  DRUG/NARCOTIC  \\\n",
       "day_of_week                                                                   \n",
       "0                           607                          263           7812   \n",
       "1                           657                          251           8463   \n",
       "2                           658                          221           9259   \n",
       "3                           643                          282           8447   \n",
       "4                           540                          352           7415   \n",
       "5                           624                          457           6385   \n",
       "6                           584                          442           6138   \n",
       "\n",
       "category     DRUNKENNESS  EMBEZZLEMENT  ...  SEX OFFENSES NON FORCIBLE  \\\n",
       "day_of_week                             ...                              \n",
       "0                    512           222  ...                         23   \n",
       "1                    461           156  ...                         23   \n",
       "2                    541           165  ...                         22   \n",
       "3                    496           165  ...                         15   \n",
       "4                    621           211  ...                         28   \n",
       "5                    833           137  ...                         21   \n",
       "6                    813           108  ...                         16   \n",
       "\n",
       "category     STOLEN PROPERTY  SUICIDE  SUSPICIOUS OCC  TREA  TRESPASS  \\\n",
       "day_of_week                                                             \n",
       "0                        636       75            4445     1      1080   \n",
       "1                        713       66            4513     1      1113   \n",
       "2                        699       66            4849     0      1120   \n",
       "3                        678       89            4504     1      1046   \n",
       "4                        647       72            4921     1      1062   \n",
       "5                        581       73            4154     2       982   \n",
       "6                        583       67            4008     0       915   \n",
       "\n",
       "category     VANDALISM  VEHICLE THEFT  WARRANTS  WEAPON LAWS  \n",
       "day_of_week                                                   \n",
       "0                 5916           7401      5804         1182  \n",
       "1                 5844           7262      6412         1176  \n",
       "2                 5904           7393      7009         1251  \n",
       "3                 5968           7449      6365         1281  \n",
       "4                 7071           8597      5921         1302  \n",
       "5                 7301           8108      5355         1231  \n",
       "6                 6577           7496      5279         1127  \n",
       "\n",
       "[7 rows x 39 columns]"
      ]
     },
     "execution_count": 13,
     "metadata": {},
     "output_type": "execute_result"
    }
   ],
   "source": [
    "pd.crosstab(df['day_of_week'], df['category'])"
   ]
  },
  {
   "cell_type": "code",
   "execution_count": 14,
   "id": "08d92192",
   "metadata": {
    "execution": {
     "iopub.execute_input": "2022-05-25T20:38:30.303154Z",
     "iopub.status.busy": "2022-05-25T20:38:30.302762Z",
     "iopub.status.idle": "2022-05-25T20:38:30.308797Z",
     "shell.execute_reply": "2022-05-25T20:38:30.308004Z"
    },
    "papermill": {
     "duration": 0.021754,
     "end_time": "2022-05-25T20:38:30.310814",
     "exception": false,
     "start_time": "2022-05-25T20:38:30.289060",
     "status": "completed"
    },
    "tags": []
   },
   "outputs": [
    {
     "data": {
      "text/plain": [
       "Index(['category', 'descript', 'pddistrict', 'resolution', 'address', 'x', 'y',\n",
       "       'year', 'month', 'day_of_month', 'day_of_week', 'hour'],\n",
       "      dtype='object')"
      ]
     },
     "execution_count": 14,
     "metadata": {},
     "output_type": "execute_result"
    }
   ],
   "source": [
    "df.columns"
   ]
  },
  {
   "cell_type": "code",
   "execution_count": 15,
   "id": "a9b878fe",
   "metadata": {
    "execution": {
     "iopub.execute_input": "2022-05-25T20:38:30.337181Z",
     "iopub.status.busy": "2022-05-25T20:38:30.336794Z",
     "iopub.status.idle": "2022-05-25T20:38:31.476248Z",
     "shell.execute_reply": "2022-05-25T20:38:31.475367Z"
    },
    "papermill": {
     "duration": 1.155238,
     "end_time": "2022-05-25T20:38:31.478515",
     "exception": false,
     "start_time": "2022-05-25T20:38:30.323277",
     "status": "completed"
    },
    "tags": []
   },
   "outputs": [
    {
     "data": {
      "image/png": "[encoded data removed]",
      "text/plain": [
       "<Figure size 1080x360 with 1 Axes>"
      ]
     },
     "metadata": {
      "needs_background": "light"
     },
     "output_type": "display_data"
    }
   ],
   "source": [
    "category_count = df.category.value_counts().to_frame().reset_index()\n",
    "top5category = category_count.iloc[:5] \n",
    "\n",
    "df_cat = df.hour.value_counts().to_frame().sort_index()\n",
    "plt.figure(figsize = (15, 5))\n",
    "plt.plot(df_cat)\n",
    "\n",
    "for item in top5category['index']:\n",
    "    df_cat = df[df.category == item].hour.value_counts().to_frame().sort_index()\n",
    "    plt.plot(df_cat)\n",
    "plt.legend(['All Categories'] + list(top5category['index'].values))\n",
    "plt.xlabel('hour')\n",
    "_ = plt.ylabel('count')"
   ]
  },
  {
   "cell_type": "code",
   "execution_count": 16,
   "id": "f491402f",
   "metadata": {
    "execution": {
     "iopub.execute_input": "2022-05-25T20:38:31.506666Z",
     "iopub.status.busy": "2022-05-25T20:38:31.506271Z",
     "iopub.status.idle": "2022-05-25T20:38:32.628531Z",
     "shell.execute_reply": "2022-05-25T20:38:32.627820Z"
    },
    "papermill": {
     "duration": 1.138418,
     "end_time": "2022-05-25T20:38:32.630344",
     "exception": false,
     "start_time": "2022-05-25T20:38:31.491926",
     "status": "completed"
    },
    "tags": []
   },
   "outputs": [
    {
     "data": {
      "image/png": "[encoded data removed]",
      "text/plain": [
       "<Figure size 1080x360 with 1 Axes>"
      ]
     },
     "metadata": {
      "needs_background": "light"
     },
     "output_type": "display_data"
    }
   ],
   "source": [
    "category_count = df.category.value_counts().to_frame().reset_index()\n",
    "top5category = category_count.iloc[:5] \n",
    "\n",
    "df_cat = df.year.value_counts().to_frame().sort_index()\n",
    "plt.figure(figsize = (15, 5))\n",
    "plt.plot(df_cat)\n",
    "\n",
    "for item in top5category['index']:\n",
    "    df_cat = df[df.category == item].year.value_counts().to_frame().sort_index()\n",
    "    plt.plot(df_cat)\n",
    "plt.legend(['All Categories'] + list(top5category['index'].values))\n",
    "plt.xlabel('year')\n",
    "_ = plt.ylabel('count')"
   ]
  },
  {
   "cell_type": "code",
   "execution_count": 17,
   "id": "357e6c9e",
   "metadata": {
    "execution": {
     "iopub.execute_input": "2022-05-25T20:38:32.661108Z",
     "iopub.status.busy": "2022-05-25T20:38:32.660382Z",
     "iopub.status.idle": "2022-05-25T20:38:33.419965Z",
     "shell.execute_reply": "2022-05-25T20:38:33.418930Z"
    },
    "papermill": {
     "duration": 0.777336,
     "end_time": "2022-05-25T20:38:33.422043",
     "exception": false,
     "start_time": "2022-05-25T20:38:32.644707",
     "status": "completed"
    },
    "tags": []
   },
   "outputs": [
    {
     "data": {
      "text/plain": [
       "<AxesSubplot:xlabel='pddistrict', ylabel='category'>"
      ]
     },
     "execution_count": 17,
     "metadata": {},
     "output_type": "execute_result"
    },
    {
     "data": {
      "image/png": "[encoded data removed]",
      "text/plain": [
       "<Figure size 1080x360 with 1 Axes>"
      ]
     },
     "metadata": {
      "needs_background": "light"
     },
     "output_type": "display_data"
    }
   ],
   "source": [
    "df1 = df.groupby('pddistrict').count().reset_index()[['pddistrict', 'category']].sort_values('category', ascending = False)\n",
    "plt.figure(figsize = (15, 5))\n",
    "sns.barplot(x = 'pddistrict',y = 'category',data = df1, palette= 'Reds_r')"
   ]
  },
  {
   "cell_type": "markdown",
   "id": "7a18f9a5",
   "metadata": {
    "papermill": {
     "duration": 0.01425,
     "end_time": "2022-05-25T20:38:33.451194",
     "exception": false,
     "start_time": "2022-05-25T20:38:33.436944",
     "status": "completed"
    },
    "tags": []
   },
   "source": [
    "# 4: Data preprocessing"
   ]
  },
  {
   "cell_type": "markdown",
   "id": "69251213",
   "metadata": {
    "papermill": {
     "duration": 0.014142,
     "end_time": "2022-05-25T20:38:33.479767",
     "exception": false,
     "start_time": "2022-05-25T20:38:33.465625",
     "status": "completed"
    },
    "tags": []
   },
   "source": [
    "#### 4.1: Variable Encoding"
   ]
  },
  {
   "cell_type": "code",
   "execution_count": 18,
   "id": "4140e5f2",
   "metadata": {
    "execution": {
     "iopub.execute_input": "2022-05-25T20:38:33.510231Z",
     "iopub.status.busy": "2022-05-25T20:38:33.509851Z",
     "iopub.status.idle": "2022-05-25T20:38:34.424141Z",
     "shell.execute_reply": "2022-05-25T20:38:34.423164Z"
    },
    "papermill": {
     "duration": 0.932408,
     "end_time": "2022-05-25T20:38:34.426668",
     "exception": false,
     "start_time": "2022-05-25T20:38:33.494260",
     "status": "completed"
    },
    "tags": []
   },
   "outputs": [],
   "source": [
    "top200Des = df['descript'].value_counts()[:200].index\n",
    "df['descript'] = df['descript'].apply(lambda x :x if x in top200Des else 'other' )\n",
    "x = df.drop(['category', 'address'], axis = 1)\n",
    "y = df['category']"
   ]
  },
  {
   "cell_type": "code",
   "execution_count": 19,
   "id": "54efba64",
   "metadata": {
    "execution": {
     "iopub.execute_input": "2022-05-25T20:38:34.458443Z",
     "iopub.status.busy": "2022-05-25T20:38:34.458064Z",
     "iopub.status.idle": "2022-05-25T20:38:35.585607Z",
     "shell.execute_reply": "2022-05-25T20:38:35.584618Z"
    },
    "papermill": {
     "duration": 1.146504,
     "end_time": "2022-05-25T20:38:35.588147",
     "exception": false,
     "start_time": "2022-05-25T20:38:34.441643",
     "status": "completed"
    },
    "tags": []
   },
   "outputs": [],
   "source": [
    "le = LabelEncoder()\n",
    "y = le.fit_transform(y)\n",
    "x['descript'] = le.fit_transform(x['descript'])\n",
    "x['pddistrict'] = le.fit_transform(x['pddistrict'])\n",
    "x['resolution'] = le.fit_transform(x['resolution'])"
   ]
  },
  {
   "cell_type": "markdown",
   "id": "6946a7c1",
   "metadata": {
    "papermill": {
     "duration": 0.013805,
     "end_time": "2022-05-25T20:38:35.616197",
     "exception": false,
     "start_time": "2022-05-25T20:38:35.602392",
     "status": "completed"
    },
    "tags": []
   },
   "source": [
    "#### 4.2: split data"
   ]
  },
  {
   "cell_type": "code",
   "execution_count": 20,
   "id": "960af8ab",
   "metadata": {
    "execution": {
     "iopub.execute_input": "2022-05-25T20:38:35.646775Z",
     "iopub.status.busy": "2022-05-25T20:38:35.646273Z",
     "iopub.status.idle": "2022-05-25T20:38:35.839813Z",
     "shell.execute_reply": "2022-05-25T20:38:35.838796Z"
    },
    "papermill": {
     "duration": 0.211586,
     "end_time": "2022-05-25T20:38:35.842041",
     "exception": false,
     "start_time": "2022-05-25T20:38:35.630455",
     "status": "completed"
    },
    "tags": []
   },
   "outputs": [
    {
     "name": "stdout",
     "output_type": "stream",
     "text": [
      "x train : (744367, 10) \t\tx test : (131359, 10)\n",
      "y train : (744367,) \t\ty test : (131359,)\n"
     ]
    }
   ],
   "source": [
    "x_train, x_test, y_train, y_test = train_test_split(x, y, test_size = 0.15, random_state = 1)\n",
    "print('x train :', x_train.shape,'\\t\\tx test :', x_test.shape)\n",
    "print('y train :', y_train.shape,'\\t\\ty test :', y_test.shape)"
   ]
  },
  {
   "cell_type": "markdown",
   "id": "f34a6f53",
   "metadata": {
    "papermill": {
     "duration": 0.014568,
     "end_time": "2022-05-25T20:38:35.871274",
     "exception": false,
     "start_time": "2022-05-25T20:38:35.856706",
     "status": "completed"
    },
    "tags": []
   },
   "source": [
    "#### 4.3: feature scaling\n"
   ]
  },
  {
   "cell_type": "code",
   "execution_count": 21,
   "id": "51e28a07",
   "metadata": {
    "execution": {
     "iopub.execute_input": "2022-05-25T20:38:35.901886Z",
     "iopub.status.busy": "2022-05-25T20:38:35.901498Z",
     "iopub.status.idle": "2022-05-25T20:38:36.038585Z",
     "shell.execute_reply": "2022-05-25T20:38:36.037584Z"
    },
    "papermill": {
     "duration": 0.155151,
     "end_time": "2022-05-25T20:38:36.041021",
     "exception": false,
     "start_time": "2022-05-25T20:38:35.885870",
     "status": "completed"
    },
    "tags": []
   },
   "outputs": [],
   "source": [
    "mms = MinMaxScaler()\n",
    "x_train = mms.fit_transform(x_train)\n",
    "x_test = mms.transform(x_test)"
   ]
  },
  {
   "cell_type": "code",
   "execution_count": 22,
   "id": "13a85d72",
   "metadata": {
    "execution": {
     "iopub.execute_input": "2022-05-25T20:38:36.072408Z",
     "iopub.status.busy": "2022-05-25T20:38:36.072027Z",
     "iopub.status.idle": "2022-05-25T20:38:36.180777Z",
     "shell.execute_reply": "2022-05-25T20:38:36.179858Z"
    },
    "papermill": {
     "duration": 0.127653,
     "end_time": "2022-05-25T20:38:36.183271",
     "exception": false,
     "start_time": "2022-05-25T20:38:36.055618",
     "status": "completed"
    },
    "tags": []
   },
   "outputs": [],
   "source": [
    "sc = StandardScaler()\n",
    "x_train = sc.fit_transform(x_train)\n",
    "x_test = sc.transform(x_test)"
   ]
  },
  {
   "cell_type": "markdown",
   "id": "6691c5cf",
   "metadata": {
    "papermill": {
     "duration": 0.014601,
     "end_time": "2022-05-25T20:38:36.212945",
     "exception": false,
     "start_time": "2022-05-25T20:38:36.198344",
     "status": "completed"
    },
    "tags": []
   },
   "source": [
    "# 5: Train your model\n"
   ]
  },
  {
   "cell_type": "markdown",
   "id": "ba1c4cb5",
   "metadata": {
    "execution": {
     "iopub.execute_input": "2022-05-25T20:04:53.055030Z",
     "iopub.status.busy": "2022-05-25T20:04:53.054614Z",
     "iopub.status.idle": "2022-05-25T20:04:53.060329Z",
     "shell.execute_reply": "2022-05-25T20:04:53.058296Z",
     "shell.execute_reply.started": "2022-05-25T20:04:53.054995Z"
    },
    "papermill": {
     "duration": 0.014347,
     "end_time": "2022-05-25T20:38:36.242294",
     "exception": false,
     "start_time": "2022-05-25T20:38:36.227947",
     "status": "completed"
    },
    "tags": []
   },
   "source": [
    "#### 5.1: KNN"
   ]
  },
  {
   "cell_type": "code",
   "execution_count": 23,
   "id": "9c56bffb",
   "metadata": {
    "execution": {
     "iopub.execute_input": "2022-05-25T20:38:36.272697Z",
     "iopub.status.busy": "2022-05-25T20:38:36.272299Z",
     "iopub.status.idle": "2022-05-25T20:40:11.669700Z",
     "shell.execute_reply": "2022-05-25T20:40:11.668829Z"
    },
    "papermill": {
     "duration": 95.415457,
     "end_time": "2022-05-25T20:40:11.672226",
     "exception": false,
     "start_time": "2022-05-25T20:38:36.256769",
     "status": "completed"
    },
    "tags": []
   },
   "outputs": [],
   "source": [
    "knn = KNeighborsClassifier()\n",
    "knn.fit(x_train, y_train)\n",
    "y_pred = knn.predict(x_test)"
   ]
  },
  {
   "cell_type": "code",
   "execution_count": 24,
   "id": "7c197c97",
   "metadata": {
    "execution": {
     "iopub.execute_input": "2022-05-25T20:40:11.703140Z",
     "iopub.status.busy": "2022-05-25T20:40:11.702731Z",
     "iopub.status.idle": "2022-05-25T20:40:11.719605Z",
     "shell.execute_reply": "2022-05-25T20:40:11.718676Z"
    },
    "papermill": {
     "duration": 0.034789,
     "end_time": "2022-05-25T20:40:11.721900",
     "exception": false,
     "start_time": "2022-05-25T20:40:11.687111",
     "status": "completed"
    },
    "tags": []
   },
   "outputs": [
    {
     "data": {
      "text/plain": [
       "0.46087439764310023"
      ]
     },
     "execution_count": 24,
     "metadata": {},
     "output_type": "execute_result"
    }
   ],
   "source": [
    "accuracy_score(y_pred, y_test)"
   ]
  },
  {
   "cell_type": "markdown",
   "id": "d69679ad",
   "metadata": {
    "papermill": {
     "duration": 0.014407,
     "end_time": "2022-05-25T20:40:11.751034",
     "exception": false,
     "start_time": "2022-05-25T20:40:11.736627",
     "status": "completed"
    },
    "tags": []
   },
   "source": [
    "#### 5.2: Random Forest"
   ]
  },
  {
   "cell_type": "code",
   "execution_count": 25,
   "id": "2368e427",
   "metadata": {
    "execution": {
     "iopub.execute_input": "2022-05-25T20:40:11.782327Z",
     "iopub.status.busy": "2022-05-25T20:40:11.781416Z",
     "iopub.status.idle": "2022-05-25T20:43:07.617783Z",
     "shell.execute_reply": "2022-05-25T20:43:07.616859Z"
    },
    "papermill": {
     "duration": 175.854659,
     "end_time": "2022-05-25T20:43:07.620270",
     "exception": false,
     "start_time": "2022-05-25T20:40:11.765611",
     "status": "completed"
    },
    "tags": []
   },
   "outputs": [],
   "source": [
    "rfc = RandomForestClassifier(random_state = 42)\n",
    "rfc.fit(x_train, y_train)\n",
    "y_pred = rfc.predict(x_test)"
   ]
  },
  {
   "cell_type": "code",
   "execution_count": 26,
   "id": "5a45022b",
   "metadata": {
    "execution": {
     "iopub.execute_input": "2022-05-25T20:43:07.652346Z",
     "iopub.status.busy": "2022-05-25T20:43:07.651600Z",
     "iopub.status.idle": "2022-05-25T20:43:07.667692Z",
     "shell.execute_reply": "2022-05-25T20:43:07.667034Z"
    },
    "papermill": {
     "duration": 0.034131,
     "end_time": "2022-05-25T20:43:07.669521",
     "exception": false,
     "start_time": "2022-05-25T20:43:07.635390",
     "status": "completed"
    },
    "tags": []
   },
   "outputs": [
    {
     "data": {
      "text/plain": [
       "0.9364337426442041"
      ]
     },
     "execution_count": 26,
     "metadata": {},
     "output_type": "execute_result"
    }
   ],
   "source": [
    "accuracy_score(y_pred, y_test)"
   ]
  },
  {
   "cell_type": "markdown",
   "id": "dc41579d",
   "metadata": {
    "papermill": {
     "duration": 0.014718,
     "end_time": "2022-05-25T20:43:07.699116",
     "exception": false,
     "start_time": "2022-05-25T20:43:07.684398",
     "status": "completed"
    },
    "tags": []
   },
   "source": [
    "#### 5.3: Decision Tree "
   ]
  },
  {
   "cell_type": "code",
   "execution_count": 27,
   "id": "ce5f4a3b",
   "metadata": {
    "execution": {
     "iopub.execute_input": "2022-05-25T20:43:07.730033Z",
     "iopub.status.busy": "2022-05-25T20:43:07.729382Z",
     "iopub.status.idle": "2022-05-25T20:43:10.874496Z",
     "shell.execute_reply": "2022-05-25T20:43:10.873219Z"
    },
    "papermill": {
     "duration": 3.163203,
     "end_time": "2022-05-25T20:43:10.876871",
     "exception": false,
     "start_time": "2022-05-25T20:43:07.713668",
     "status": "completed"
    },
    "tags": []
   },
   "outputs": [],
   "source": [
    "dtc = DecisionTreeClassifier(random_state= 1)\n",
    "dtc.fit(x_train, y_train)\n",
    "y_pred = dtc.predict(x_test)"
   ]
  },
  {
   "cell_type": "code",
   "execution_count": 28,
   "id": "db071948",
   "metadata": {
    "execution": {
     "iopub.execute_input": "2022-05-25T20:43:10.908504Z",
     "iopub.status.busy": "2022-05-25T20:43:10.908113Z",
     "iopub.status.idle": "2022-05-25T20:43:10.924869Z",
     "shell.execute_reply": "2022-05-25T20:43:10.924008Z"
    },
    "papermill": {
     "duration": 0.035191,
     "end_time": "2022-05-25T20:43:10.926915",
     "exception": false,
     "start_time": "2022-05-25T20:43:10.891724",
     "status": "completed"
    },
    "tags": []
   },
   "outputs": [
    {
     "data": {
      "text/plain": [
       "0.9537603057270534"
      ]
     },
     "execution_count": 28,
     "metadata": {},
     "output_type": "execute_result"
    }
   ],
   "source": [
    "accuracy_score(y_pred, y_test)"
   ]
  },
  {
   "cell_type": "markdown",
   "id": "2f1d6f38",
   "metadata": {
    "papermill": {
     "duration": 0.014929,
     "end_time": "2022-05-25T20:43:10.957106",
     "exception": false,
     "start_time": "2022-05-25T20:43:10.942177",
     "status": "completed"
    },
    "tags": []
   },
   "source": [
    "#### 5.4: XGBoost "
   ]
  },
  {
   "cell_type": "code",
   "execution_count": 29,
   "id": "6bb9c712",
   "metadata": {
    "execution": {
     "iopub.execute_input": "2022-05-25T20:43:10.988639Z",
     "iopub.status.busy": "2022-05-25T20:43:10.987793Z",
     "iopub.status.idle": "2022-05-25T21:03:20.300493Z",
     "shell.execute_reply": "2022-05-25T21:03:20.297854Z"
    },
    "papermill": {
     "duration": 1209.338426,
     "end_time": "2022-05-25T21:03:20.310399",
     "exception": false,
     "start_time": "2022-05-25T20:43:10.971973",
     "status": "completed"
    },
    "tags": []
   },
   "outputs": [],
   "source": [
    "model = XGBClassifier()\n",
    "model.fit(x_train, y_train)\n",
    "y_pred = model.predict(x_test)"
   ]
  },
  {
   "cell_type": "code",
   "execution_count": 30,
   "id": "00d5f829",
   "metadata": {
    "execution": {
     "iopub.execute_input": "2022-05-25T21:03:20.353819Z",
     "iopub.status.busy": "2022-05-25T21:03:20.353079Z",
     "iopub.status.idle": "2022-05-25T21:03:20.373541Z",
     "shell.execute_reply": "2022-05-25T21:03:20.372907Z"
    },
    "papermill": {
     "duration": 0.042179,
     "end_time": "2022-05-25T21:03:20.377239",
     "exception": false,
     "start_time": "2022-05-25T21:03:20.335060",
     "status": "completed"
    },
    "tags": []
   },
   "outputs": [
    {
     "data": {
      "text/plain": [
       "0.9594317861737681"
      ]
     },
     "execution_count": 30,
     "metadata": {},
     "output_type": "execute_result"
    }
   ],
   "source": [
    "accuracy_score(y_pred, y_test)"
   ]
  },
  {
   "cell_type": "code",
   "execution_count": null,
   "id": "7a8d3b9e",
   "metadata": {
    "papermill": {
     "duration": 0.014873,
     "end_time": "2022-05-25T21:03:20.408403",
     "exception": false,
     "start_time": "2022-05-25T21:03:20.393530",
     "status": "completed"
    },
    "tags": []
   },
   "outputs": [],
   "source": []
  }
 ],
 "metadata": {
  "kernelspec": {
   "display_name": "Python 3",
   "language": "python",
   "name": "python3"
  },
  "language_info": {
   "codemirror_mode": {
    "name": "ipython",
    "version": 3
   },
   "file_extension": ".py",
   "mimetype": "text/x-python",
   "name": "python",
   "nbconvert_exporter": "python",
   "pygments_lexer": "ipython3",
   "version": "3.7.12"
  },
  "papermill": {
   "default_parameters": {},
   "duration": 1513.07424,
   "end_time": "2022-05-25T21:03:21.754341",
   "environment_variables": {},
   "exception": null,
   "input_path": "__notebook__.ipynb",
   "output_path": "__notebook__.ipynb",
   "parameters": {},
   "start_time": "2022-05-25T20:38:08.680101",
   "version": "2.3.4"
  }
 },
 "nbformat": 4,
 "nbformat_minor": 5
}
