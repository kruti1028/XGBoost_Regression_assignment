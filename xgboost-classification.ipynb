{
 "cells": [
  {
   "cell_type": "markdown",
   "id": "209ad8f6",
   "metadata": {
    "papermill": {
     "duration": 0.004688,
     "end_time": "2023-07-18T23:57:16.208253",
     "exception": false,
     "start_time": "2023-07-18T23:57:16.203565",
     "status": "completed"
    },
    "tags": []
   },
   "source": [
    "### <center style=\"background-color:Gainsboro; width:60%;\">Load Data</center>\n",
    "The very first steps are to load the data and get a quick understanding of what it is and how we can use it to fulfill out goal:\n",
    "\n",
    "\"For each `<session_id>_<question #>`, you are predicting the `correct` column, identifying whether you believe the user for this particular session will answer this question correctly, using only the previous information for the session.\n",
    "\n",
    "The timeseries API presents the questions and data to you in order of levels - level segments 0-4, 5-12, and 13-22 are each provided in sequence, and you will be predicting the correctness of each segment's questions as they are presented.\""
   ]
  },
  {
   "cell_type": "code",
   "execution_count": 1,
   "id": "b62fb3a6",
   "metadata": {
    "execution": {
     "iopub.execute_input": "2023-07-18T23:57:16.218320Z",
     "iopub.status.busy": "2023-07-18T23:57:16.217748Z",
     "iopub.status.idle": "2023-07-18T23:57:17.641502Z",
     "shell.execute_reply": "2023-07-18T23:57:17.640490Z"
    },
    "papermill": {
     "duration": 1.431446,
     "end_time": "2023-07-18T23:57:17.643850",
     "exception": false,
     "start_time": "2023-07-18T23:57:16.212404",
     "status": "completed"
    },
    "tags": []
   },
   "outputs": [
    {
     "name": "stderr",
     "output_type": "stream",
     "text": [
      "/opt/conda/lib/python3.10/site-packages/scipy/__init__.py:146: UserWarning: A NumPy version >=1.16.5 and <1.23.0 is required for this version of SciPy (detected version 1.23.5\n",
      "  warnings.warn(f\"A NumPy version >={np_minversion} and <{np_maxversion}\"\n"
     ]
    }
   ],
   "source": [
    "#=========================================================================\n",
    "# Load up the libraries\n",
    "#=========================================================================\n",
    "import pandas as pd\n",
    "pd.set_option('display.max_columns', None)\n",
    "pd.set_option('display.max_rows', None)\n",
    "import numpy as np\n",
    "import gc\n",
    "import matplotlib.pyplot as plt\n",
    "import xgboost as xgb\n",
    "from xgboost import XGBClassifier\n",
    "from sklearn.metrics import f1_score\n",
    "from sklearn.model_selection import KFold, GroupKFold"
   ]
  },
  {
   "cell_type": "code",
   "execution_count": 2,
   "id": "5043b5f9",
   "metadata": {
    "execution": {
     "iopub.execute_input": "2023-07-18T23:57:17.657920Z",
     "iopub.status.busy": "2023-07-18T23:57:17.655955Z",
     "iopub.status.idle": "2023-07-18T23:57:18.009899Z",
     "shell.execute_reply": "2023-07-18T23:57:18.008670Z"
    },
    "papermill": {
     "duration": 0.363809,
     "end_time": "2023-07-18T23:57:18.013215",
     "exception": false,
     "start_time": "2023-07-18T23:57:17.649406",
     "status": "completed"
    },
    "tags": []
   },
   "outputs": [],
   "source": [
    "#=========================================================================\n",
    "# Load in the data\n",
    "#=========================================================================\n",
    "test  = pd.read_csv('/kaggle/input/predict-student-performance-from-game-play/test.csv')\n",
    "labels = pd.read_csv('/kaggle/input/predict-student-performance-from-game-play/train_labels.csv')"
   ]
  },
  {
   "cell_type": "markdown",
   "id": "5d19d1cf",
   "metadata": {
    "papermill": {
     "duration": 0.004109,
     "end_time": "2023-07-18T23:57:18.022964",
     "exception": false,
     "start_time": "2023-07-18T23:57:18.018855",
     "status": "completed"
    },
    "tags": []
   },
   "source": [
    "Note: I have been having extreme issues with RAM given the size of the dataset, and in transferring this to Kaggle I found I had to adopt code from another notebook or else reduce the dataset I used. It seems like the LHL-provided examples on how to do XGBoost classification do not work on my system with this dataset (the competition appears to have been changed only a few months ago), so some of this notebook uses code from a prior submission/baseline project that breaks it up into chunks that are processed individually. Otherwise, my features, effort, and outcome are dependent on my work from before finding this notebook."
   ]
  },
  {
   "cell_type": "code",
   "execution_count": 3,
   "id": "03b25abf",
   "metadata": {
    "execution": {
     "iopub.execute_input": "2023-07-18T23:57:18.035836Z",
     "iopub.status.busy": "2023-07-18T23:57:18.035412Z",
     "iopub.status.idle": "2023-07-18T23:58:16.235846Z",
     "shell.execute_reply": "2023-07-18T23:58:16.235138Z"
    },
    "papermill": {
     "duration": 58.210908,
     "end_time": "2023-07-18T23:58:16.238512",
     "exception": false,
     "start_time": "2023-07-18T23:57:18.027604",
     "status": "completed"
    },
    "scrolled": true,
    "tags": []
   },
   "outputs": [
    {
     "name": "stdout",
     "output_type": "stream",
     "text": [
      "To avoid memory error, we will read train in 12 pieces of sizes:\n",
      "[2208580, 2238585, 2181336, 2209139, 2203924, 2213922, 2188184, 2177814, 2160779, 2188720, 2166242, 2159721]\n"
     ]
    }
   ],
   "source": [
    "# READ USER ID ONLY\n",
    "tmp = pd.read_csv(\"/kaggle/input/predict-student-performance-from-game-play/train.csv\",usecols=[0])\n",
    "tmp = tmp.groupby('session_id').session_id.agg('count')\n",
    "\n",
    "# COMPUTE READS AND SKIPS\n",
    "PIECES = 12\n",
    "CHUNK = int( np.ceil(len(tmp)/PIECES) )\n",
    "\n",
    "reads = []\n",
    "skips = [0]\n",
    "for k in range(PIECES):\n",
    "    a = k*CHUNK\n",
    "    b = (k+1)*CHUNK\n",
    "    if b>len(tmp): b=len(tmp)\n",
    "    r = tmp.iloc[a:b].sum()\n",
    "    reads.append(r)\n",
    "    skips.append(skips[-1]+r)\n",
    "    \n",
    "print(f'To avoid memory error, we will read train in {PIECES} pieces of sizes:')\n",
    "print(reads)"
   ]
  },
  {
   "cell_type": "markdown",
   "id": "eeac9edc",
   "metadata": {
    "papermill": {
     "duration": 0.003857,
     "end_time": "2023-07-18T23:58:16.246518",
     "exception": false,
     "start_time": "2023-07-18T23:58:16.242661",
     "status": "completed"
    },
    "tags": []
   },
   "source": [
    "### <center style=\"background-color:Gainsboro; width:60%;\">Feature Selection & Engineering</center>\n",
    "Starting off, `session_id` in the labels DF has a `_qX` suffix, indicating which question was answered. This can be split into two columns, although the `session_id` column is also being treated as the index column so it needs to be reset first."
   ]
  },
  {
   "cell_type": "code",
   "execution_count": 4,
   "id": "66fc1bdb",
   "metadata": {
    "execution": {
     "iopub.execute_input": "2023-07-18T23:58:16.257021Z",
     "iopub.status.busy": "2023-07-18T23:58:16.255931Z",
     "iopub.status.idle": "2023-07-18T23:58:16.808687Z",
     "shell.execute_reply": "2023-07-18T23:58:16.807596Z"
    },
    "papermill": {
     "duration": 0.561111,
     "end_time": "2023-07-18T23:58:16.811790",
     "exception": false,
     "start_time": "2023-07-18T23:58:16.250679",
     "status": "completed"
    },
    "tags": []
   },
   "outputs": [
    {
     "name": "stdout",
     "output_type": "stream",
     "text": [
      "(424116, 4)\n"
     ]
    },
    {
     "data": {
      "text/html": [
       "<div>\n",
       "<style scoped>\n",
       "    .dataframe tbody tr th:only-of-type {\n",
       "        vertical-align: middle;\n",
       "    }\n",
       "\n",
       "    .dataframe tbody tr th {\n",
       "        vertical-align: top;\n",
       "    }\n",
       "\n",
       "    .dataframe thead th {\n",
       "        text-align: right;\n",
       "    }\n",
       "</style>\n",
       "<table border=\"1\" class=\"dataframe\">\n",
       "  <thead>\n",
       "    <tr style=\"text-align: right;\">\n",
       "      <th></th>\n",
       "      <th>session_id</th>\n",
       "      <th>correct</th>\n",
       "      <th>session</th>\n",
       "      <th>q_answered</th>\n",
       "    </tr>\n",
       "  </thead>\n",
       "  <tbody>\n",
       "    <tr>\n",
       "      <th>0</th>\n",
       "      <td>20090312431273200_q1</td>\n",
       "      <td>1</td>\n",
       "      <td>20090312431273200</td>\n",
       "      <td>1</td>\n",
       "    </tr>\n",
       "    <tr>\n",
       "      <th>1</th>\n",
       "      <td>20090312433251036_q1</td>\n",
       "      <td>0</td>\n",
       "      <td>20090312433251036</td>\n",
       "      <td>1</td>\n",
       "    </tr>\n",
       "    <tr>\n",
       "      <th>2</th>\n",
       "      <td>20090312455206810_q1</td>\n",
       "      <td>1</td>\n",
       "      <td>20090312455206810</td>\n",
       "      <td>1</td>\n",
       "    </tr>\n",
       "    <tr>\n",
       "      <th>3</th>\n",
       "      <td>20090313091715820_q1</td>\n",
       "      <td>0</td>\n",
       "      <td>20090313091715820</td>\n",
       "      <td>1</td>\n",
       "    </tr>\n",
       "    <tr>\n",
       "      <th>4</th>\n",
       "      <td>20090313571836404_q1</td>\n",
       "      <td>1</td>\n",
       "      <td>20090313571836404</td>\n",
       "      <td>1</td>\n",
       "    </tr>\n",
       "  </tbody>\n",
       "</table>\n",
       "</div>"
      ],
      "text/plain": [
       "             session_id  correct            session  q_answered\n",
       "0  20090312431273200_q1        1  20090312431273200           1\n",
       "1  20090312433251036_q1        0  20090312433251036           1\n",
       "2  20090312455206810_q1        1  20090312455206810           1\n",
       "3  20090313091715820_q1        0  20090313091715820           1\n",
       "4  20090313571836404_q1        1  20090313571836404           1"
      ]
     },
     "execution_count": 4,
     "metadata": {},
     "output_type": "execute_result"
    }
   ],
   "source": [
    "#=========================================================================\n",
    "# reset index, split session_id\n",
    "#=========================================================================\n",
    "labels['session'] = labels.session_id.apply(lambda x: int(x.split('_')[0]) )\n",
    "labels['q_answered'] = labels.session_id.apply(lambda x: int(x.split('_')[-1][1:]) )\n",
    "print( labels.shape )\n",
    "labels.head()"
   ]
  },
  {
   "cell_type": "markdown",
   "id": "4630927b",
   "metadata": {
    "papermill": {
     "duration": 0.004177,
     "end_time": "2023-07-18T23:58:16.820546",
     "exception": false,
     "start_time": "2023-07-18T23:58:16.816369",
     "status": "completed"
    },
    "tags": []
   },
   "source": [
    "I also want my final df to have features that would be missing, such as `elapsed_time`, so the `numbers` list has been used for that reason. "
   ]
  },
  {
   "cell_type": "code",
   "execution_count": 5,
   "id": "410270cd",
   "metadata": {
    "execution": {
     "iopub.execute_input": "2023-07-18T23:58:16.831313Z",
     "iopub.status.busy": "2023-07-18T23:58:16.830956Z",
     "iopub.status.idle": "2023-07-18T23:58:16.839977Z",
     "shell.execute_reply": "2023-07-18T23:58:16.839197Z"
    },
    "papermill": {
     "duration": 0.016621,
     "end_time": "2023-07-18T23:58:16.841712",
     "exception": false,
     "start_time": "2023-07-18T23:58:16.825091",
     "status": "completed"
    },
    "tags": []
   },
   "outputs": [],
   "source": [
    "#=========================================================================\n",
    "# define typed lists\n",
    "#=========================================================================\n",
    "# For Engineering\n",
    "categories = ['event_name', 'fqid', 'room_fqid', 'text']\n",
    "\n",
    "events = ['navigate_click','person_click','cutscene_click','object_click',\n",
    "          'map_hover','notification_click','map_click','observation_click',\n",
    "          'checkpoint']\n",
    "\n",
    "# For retaining features\n",
    "numbers = ['elapsed_time','level','page','room_coor_x', 'room_coor_y', \n",
    "        'screen_coor_x', 'screen_coor_y', 'hover_duration']\n",
    "\n",
    "#=========================================================================\n",
    "# create engineered dataframe\n",
    "#=========================================================================\n",
    "def feature_engineer(train):\n",
    "    # Create list of new dfs to later merge together\n",
    "    eng_df = []\n",
    "\n",
    "    # We don't really need the exact data for these columns\n",
    "    for cat in categories:\n",
    "        temp = train.groupby(['session_id','level_group'])[cat].agg('nunique')\n",
    "        temp.name = temp.name + '_nunique'\n",
    "        eng_df.append(temp)\n",
    "\n",
    "    # Simplify events data\n",
    "    for step in events:\n",
    "        train[step] = (train.event_name == step).astype('int8')\n",
    "    for step in events + ['elapsed_time']:\n",
    "        temp = train.groupby(['session_id','level_group'])[step].agg('sum')\n",
    "        temp.name = temp.name + '_sum'\n",
    "        eng_df.append(temp)\n",
    "\n",
    "    # Keep numerical data\n",
    "    for step in numbers:\n",
    "        temp = train.groupby(['session_id','level_group'])[step].agg('sum')\n",
    "        eng_df.append(temp)\n",
    "\n",
    "    # Drop \n",
    "    train = train.drop(events,axis=1)\n",
    "\n",
    "    df = pd.concat(eng_df,axis=1)\n",
    "    df = df.fillna(-1)\n",
    "    df = df.reset_index()\n",
    "    df = df.set_index('session_id')\n",
    "    return df"
   ]
  },
  {
   "cell_type": "code",
   "execution_count": 6,
   "id": "9bb6dcaa",
   "metadata": {
    "execution": {
     "iopub.execute_input": "2023-07-18T23:58:16.852626Z",
     "iopub.status.busy": "2023-07-18T23:58:16.851570Z",
     "iopub.status.idle": "2023-07-19T00:02:59.241276Z",
     "shell.execute_reply": "2023-07-19T00:02:59.240500Z"
    },
    "papermill": {
     "duration": 282.401322,
     "end_time": "2023-07-19T00:02:59.247620",
     "exception": false,
     "start_time": "2023-07-18T23:58:16.846298",
     "status": "completed"
    },
    "tags": []
   },
   "outputs": [
    {
     "name": "stdout",
     "output_type": "stream",
     "text": [
      "Processing train as 12 pieces to avoid memory error... \n",
      "0 , 1 , 2 , 3 , 4 , 5 , 6 , 7 , 8 , 9 , 10 , 11 , \n",
      "\n",
      "Shape of all train data after feature engineering: (70686, 23)\n",
      "CPU times: user 3min 46s, sys: 13 s, total: 3min 59s\n",
      "Wall time: 4min 42s\n"
     ]
    },
    {
     "data": {
      "text/html": [
       "<div>\n",
       "<style scoped>\n",
       "    .dataframe tbody tr th:only-of-type {\n",
       "        vertical-align: middle;\n",
       "    }\n",
       "\n",
       "    .dataframe tbody tr th {\n",
       "        vertical-align: top;\n",
       "    }\n",
       "\n",
       "    .dataframe thead th {\n",
       "        text-align: right;\n",
       "    }\n",
       "</style>\n",
       "<table border=\"1\" class=\"dataframe\">\n",
       "  <thead>\n",
       "    <tr style=\"text-align: right;\">\n",
       "      <th></th>\n",
       "      <th>level_group</th>\n",
       "      <th>event_name_nunique</th>\n",
       "      <th>fqid_nunique</th>\n",
       "      <th>room_fqid_nunique</th>\n",
       "      <th>text_nunique</th>\n",
       "      <th>navigate_click_sum</th>\n",
       "      <th>person_click_sum</th>\n",
       "      <th>cutscene_click_sum</th>\n",
       "      <th>object_click_sum</th>\n",
       "      <th>map_hover_sum</th>\n",
       "      <th>notification_click_sum</th>\n",
       "      <th>map_click_sum</th>\n",
       "      <th>observation_click_sum</th>\n",
       "      <th>checkpoint_sum</th>\n",
       "      <th>elapsed_time_sum</th>\n",
       "      <th>elapsed_time</th>\n",
       "      <th>level</th>\n",
       "      <th>page</th>\n",
       "      <th>room_coor_x</th>\n",
       "      <th>room_coor_y</th>\n",
       "      <th>screen_coor_x</th>\n",
       "      <th>screen_coor_y</th>\n",
       "      <th>hover_duration</th>\n",
       "    </tr>\n",
       "    <tr>\n",
       "      <th>session_id</th>\n",
       "      <th></th>\n",
       "      <th></th>\n",
       "      <th></th>\n",
       "      <th></th>\n",
       "      <th></th>\n",
       "      <th></th>\n",
       "      <th></th>\n",
       "      <th></th>\n",
       "      <th></th>\n",
       "      <th></th>\n",
       "      <th></th>\n",
       "      <th></th>\n",
       "      <th></th>\n",
       "      <th></th>\n",
       "      <th></th>\n",
       "      <th></th>\n",
       "      <th></th>\n",
       "      <th></th>\n",
       "      <th></th>\n",
       "      <th></th>\n",
       "      <th></th>\n",
       "      <th></th>\n",
       "      <th></th>\n",
       "    </tr>\n",
       "  </thead>\n",
       "  <tbody>\n",
       "    <tr>\n",
       "      <th>20090312431273200</th>\n",
       "      <td>0-4</td>\n",
       "      <td>10</td>\n",
       "      <td>30</td>\n",
       "      <td>7</td>\n",
       "      <td>56</td>\n",
       "      <td>81</td>\n",
       "      <td>22</td>\n",
       "      <td>28</td>\n",
       "      <td>11</td>\n",
       "      <td>4</td>\n",
       "      <td>8</td>\n",
       "      <td>2</td>\n",
       "      <td>4</td>\n",
       "      <td>1</td>\n",
       "      <td>14155937</td>\n",
       "      <td>14155937</td>\n",
       "      <td>321</td>\n",
       "      <td>0.0</td>\n",
       "      <td>1201.398834</td>\n",
       "      <td>-11140.544849</td>\n",
       "      <td>69952.0</td>\n",
       "      <td>59755.0</td>\n",
       "      <td>19116.0</td>\n",
       "    </tr>\n",
       "    <tr>\n",
       "      <th>20090312431273200</th>\n",
       "      <td>13-22</td>\n",
       "      <td>10</td>\n",
       "      <td>49</td>\n",
       "      <td>12</td>\n",
       "      <td>168</td>\n",
       "      <td>170</td>\n",
       "      <td>123</td>\n",
       "      <td>60</td>\n",
       "      <td>20</td>\n",
       "      <td>14</td>\n",
       "      <td>10</td>\n",
       "      <td>6</td>\n",
       "      <td>3</td>\n",
       "      <td>1</td>\n",
       "      <td>437052322</td>\n",
       "      <td>437052322</td>\n",
       "      <td>7309</td>\n",
       "      <td>0.0</td>\n",
       "      <td>-51096.090454</td>\n",
       "      <td>-63505.689523</td>\n",
       "      <td>173456.0</td>\n",
       "      <td>148686.0</td>\n",
       "      <td>24298.0</td>\n",
       "    </tr>\n",
       "    <tr>\n",
       "      <th>20090312431273200</th>\n",
       "      <td>5-12</td>\n",
       "      <td>10</td>\n",
       "      <td>39</td>\n",
       "      <td>11</td>\n",
       "      <td>124</td>\n",
       "      <td>103</td>\n",
       "      <td>104</td>\n",
       "      <td>12</td>\n",
       "      <td>28</td>\n",
       "      <td>9</td>\n",
       "      <td>9</td>\n",
       "      <td>8</td>\n",
       "      <td>1</td>\n",
       "      <td>1</td>\n",
       "      <td>105732736</td>\n",
       "      <td>105732736</td>\n",
       "      <td>2384</td>\n",
       "      <td>0.0</td>\n",
       "      <td>3791.106501</td>\n",
       "      <td>-15176.370454</td>\n",
       "      <td>119767.0</td>\n",
       "      <td>100378.0</td>\n",
       "      <td>29080.0</td>\n",
       "    </tr>\n",
       "    <tr>\n",
       "      <th>20090312433251036</th>\n",
       "      <td>0-4</td>\n",
       "      <td>11</td>\n",
       "      <td>22</td>\n",
       "      <td>6</td>\n",
       "      <td>49</td>\n",
       "      <td>49</td>\n",
       "      <td>18</td>\n",
       "      <td>36</td>\n",
       "      <td>15</td>\n",
       "      <td>3</td>\n",
       "      <td>5</td>\n",
       "      <td>3</td>\n",
       "      <td>2</td>\n",
       "      <td>1</td>\n",
       "      <td>13571045</td>\n",
       "      <td>13571045</td>\n",
       "      <td>260</td>\n",
       "      <td>0.0</td>\n",
       "      <td>-10925.974736</td>\n",
       "      <td>-6977.240641</td>\n",
       "      <td>46569.0</td>\n",
       "      <td>48194.0</td>\n",
       "      <td>11030.0</td>\n",
       "    </tr>\n",
       "    <tr>\n",
       "      <th>20090312433251036</th>\n",
       "      <td>13-22</td>\n",
       "      <td>11</td>\n",
       "      <td>73</td>\n",
       "      <td>16</td>\n",
       "      <td>183</td>\n",
       "      <td>637</td>\n",
       "      <td>145</td>\n",
       "      <td>65</td>\n",
       "      <td>83</td>\n",
       "      <td>186</td>\n",
       "      <td>14</td>\n",
       "      <td>45</td>\n",
       "      <td>5</td>\n",
       "      <td>1</td>\n",
       "      <td>3241011333</td>\n",
       "      <td>3241011333</td>\n",
       "      <td>23038</td>\n",
       "      <td>255.0</td>\n",
       "      <td>-32115.822788</td>\n",
       "      <td>-149147.814734</td>\n",
       "      <td>483218.0</td>\n",
       "      <td>404999.0</td>\n",
       "      <td>181537.0</td>\n",
       "    </tr>\n",
       "  </tbody>\n",
       "</table>\n",
       "</div>"
      ],
      "text/plain": [
       "                  level_group  event_name_nunique  fqid_nunique  \\\n",
       "session_id                                                        \n",
       "20090312431273200         0-4                  10            30   \n",
       "20090312431273200       13-22                  10            49   \n",
       "20090312431273200        5-12                  10            39   \n",
       "20090312433251036         0-4                  11            22   \n",
       "20090312433251036       13-22                  11            73   \n",
       "\n",
       "                   room_fqid_nunique  text_nunique  navigate_click_sum  \\\n",
       "session_id                                                               \n",
       "20090312431273200                  7            56                  81   \n",
       "20090312431273200                 12           168                 170   \n",
       "20090312431273200                 11           124                 103   \n",
       "20090312433251036                  6            49                  49   \n",
       "20090312433251036                 16           183                 637   \n",
       "\n",
       "                   person_click_sum  cutscene_click_sum  object_click_sum  \\\n",
       "session_id                                                                  \n",
       "20090312431273200                22                  28                11   \n",
       "20090312431273200               123                  60                20   \n",
       "20090312431273200               104                  12                28   \n",
       "20090312433251036                18                  36                15   \n",
       "20090312433251036               145                  65                83   \n",
       "\n",
       "                   map_hover_sum  notification_click_sum  map_click_sum  \\\n",
       "session_id                                                                \n",
       "20090312431273200              4                       8              2   \n",
       "20090312431273200             14                      10              6   \n",
       "20090312431273200              9                       9              8   \n",
       "20090312433251036              3                       5              3   \n",
       "20090312433251036            186                      14             45   \n",
       "\n",
       "                   observation_click_sum  checkpoint_sum  elapsed_time_sum  \\\n",
       "session_id                                                                   \n",
       "20090312431273200                      4               1          14155937   \n",
       "20090312431273200                      3               1         437052322   \n",
       "20090312431273200                      1               1         105732736   \n",
       "20090312433251036                      2               1          13571045   \n",
       "20090312433251036                      5               1        3241011333   \n",
       "\n",
       "                   elapsed_time  level   page   room_coor_x    room_coor_y  \\\n",
       "session_id                                                                   \n",
       "20090312431273200      14155937    321    0.0   1201.398834  -11140.544849   \n",
       "20090312431273200     437052322   7309    0.0 -51096.090454  -63505.689523   \n",
       "20090312431273200     105732736   2384    0.0   3791.106501  -15176.370454   \n",
       "20090312433251036      13571045    260    0.0 -10925.974736   -6977.240641   \n",
       "20090312433251036    3241011333  23038  255.0 -32115.822788 -149147.814734   \n",
       "\n",
       "                   screen_coor_x  screen_coor_y  hover_duration  \n",
       "session_id                                                       \n",
       "20090312431273200        69952.0        59755.0         19116.0  \n",
       "20090312431273200       173456.0       148686.0         24298.0  \n",
       "20090312431273200       119767.0       100378.0         29080.0  \n",
       "20090312433251036        46569.0        48194.0         11030.0  \n",
       "20090312433251036       483218.0       404999.0        181537.0  "
      ]
     },
     "execution_count": 6,
     "metadata": {},
     "output_type": "execute_result"
    }
   ],
   "source": [
    "%%time\n",
    "\n",
    "# PROCESS TRAIN DATA IN PIECES\n",
    "all_pieces = []\n",
    "print(f'Processing train as {PIECES} pieces to avoid memory error... ')\n",
    "for k in range(PIECES):\n",
    "    print(k,', ',end='')\n",
    "    SKIPS = 0\n",
    "    if k>0: SKIPS = range(1,skips[k]+1)\n",
    "    train = pd.read_csv('/kaggle/input/predict-student-performance-from-game-play/train.csv',\n",
    "                        nrows=reads[k], skiprows=SKIPS)\n",
    "    df = feature_engineer(train)\n",
    "    all_pieces.append(df)\n",
    "    \n",
    "# CONCATENATE ALL PIECES\n",
    "print('\\n')\n",
    "del train; gc.collect()\n",
    "df = pd.concat(all_pieces, axis=0)\n",
    "print('Shape of all train data after feature engineering:', df.shape )\n",
    "df.head()"
   ]
  },
  {
   "cell_type": "code",
   "execution_count": 7,
   "id": "7cbb7ce8",
   "metadata": {
    "execution": {
     "iopub.execute_input": "2023-07-19T00:02:59.260569Z",
     "iopub.status.busy": "2023-07-19T00:02:59.260046Z",
     "iopub.status.idle": "2023-07-19T00:02:59.291724Z",
     "shell.execute_reply": "2023-07-19T00:02:59.291041Z"
    },
    "papermill": {
     "duration": 0.040258,
     "end_time": "2023-07-19T00:02:59.293316",
     "exception": false,
     "start_time": "2023-07-19T00:02:59.253058",
     "status": "completed"
    },
    "tags": []
   },
   "outputs": [
    {
     "name": "stdout",
     "output_type": "stream",
     "text": [
      "Length = 424116\n"
     ]
    },
    {
     "data": {
      "text/html": [
       "<div>\n",
       "<style scoped>\n",
       "    .dataframe tbody tr th:only-of-type {\n",
       "        vertical-align: middle;\n",
       "    }\n",
       "\n",
       "    .dataframe tbody tr th {\n",
       "        vertical-align: top;\n",
       "    }\n",
       "\n",
       "    .dataframe thead th {\n",
       "        text-align: right;\n",
       "    }\n",
       "</style>\n",
       "<table border=\"1\" class=\"dataframe\">\n",
       "  <thead>\n",
       "    <tr style=\"text-align: right;\">\n",
       "      <th></th>\n",
       "      <th>session_id</th>\n",
       "      <th>correct</th>\n",
       "      <th>session</th>\n",
       "      <th>q_answered</th>\n",
       "    </tr>\n",
       "  </thead>\n",
       "  <tbody>\n",
       "    <tr>\n",
       "      <th>0</th>\n",
       "      <td>20090312431273200_q1</td>\n",
       "      <td>1</td>\n",
       "      <td>20090312431273200</td>\n",
       "      <td>1</td>\n",
       "    </tr>\n",
       "    <tr>\n",
       "      <th>1</th>\n",
       "      <td>20090312433251036_q1</td>\n",
       "      <td>0</td>\n",
       "      <td>20090312433251036</td>\n",
       "      <td>1</td>\n",
       "    </tr>\n",
       "    <tr>\n",
       "      <th>2</th>\n",
       "      <td>20090312455206810_q1</td>\n",
       "      <td>1</td>\n",
       "      <td>20090312455206810</td>\n",
       "      <td>1</td>\n",
       "    </tr>\n",
       "    <tr>\n",
       "      <th>3</th>\n",
       "      <td>20090313091715820_q1</td>\n",
       "      <td>0</td>\n",
       "      <td>20090313091715820</td>\n",
       "      <td>1</td>\n",
       "    </tr>\n",
       "    <tr>\n",
       "      <th>4</th>\n",
       "      <td>20090313571836404_q1</td>\n",
       "      <td>1</td>\n",
       "      <td>20090313571836404</td>\n",
       "      <td>1</td>\n",
       "    </tr>\n",
       "  </tbody>\n",
       "</table>\n",
       "</div>"
      ],
      "text/plain": [
       "             session_id  correct            session  q_answered\n",
       "0  20090312431273200_q1        1  20090312431273200           1\n",
       "1  20090312433251036_q1        0  20090312433251036           1\n",
       "2  20090312455206810_q1        1  20090312455206810           1\n",
       "3  20090313091715820_q1        0  20090313091715820           1\n",
       "4  20090313571836404_q1        1  20090313571836404           1"
      ]
     },
     "execution_count": 7,
     "metadata": {},
     "output_type": "execute_result"
    }
   ],
   "source": [
    "labels = labels.reset_index()\n",
    "print(f\"Length = {len(labels)}\")\n",
    "labels = labels.drop(\"index\", axis=1)\n",
    "labels.head()"
   ]
  },
  {
   "cell_type": "markdown",
   "id": "c6f0e8b1",
   "metadata": {
    "papermill": {
     "duration": 0.005457,
     "end_time": "2023-07-19T00:02:59.304764",
     "exception": false,
     "start_time": "2023-07-19T00:02:59.299307",
     "status": "completed"
    },
    "tags": []
   },
   "source": [
    "### <center style=\"background-color:Gainsboro; width:60%;\">XGBoost Model</center>\n",
    "Now that I have my cleaned training data in `df`, I need to build he model. I have the following considerations to keep in mind.\n",
    "1. The `labels` df has a column for individual questions (i.e. level within a group), with the primary key being session_id.\n",
    "2. The new training `df` has a column for level group, but not for individual questions."
   ]
  },
  {
   "cell_type": "code",
   "execution_count": 8,
   "id": "5bb5ca46",
   "metadata": {
    "execution": {
     "iopub.execute_input": "2023-07-19T00:02:59.318201Z",
     "iopub.status.busy": "2023-07-19T00:02:59.317327Z",
     "iopub.status.idle": "2023-07-19T00:02:59.331933Z",
     "shell.execute_reply": "2023-07-19T00:02:59.330832Z"
    },
    "papermill": {
     "duration": 0.023524,
     "end_time": "2023-07-19T00:02:59.333733",
     "exception": false,
     "start_time": "2023-07-19T00:02:59.310209",
     "status": "completed"
    },
    "tags": []
   },
   "outputs": [
    {
     "name": "stdout",
     "output_type": "stream",
     "text": [
      "22\n",
      "23562\n"
     ]
    }
   ],
   "source": [
    "features = [c for c in df.columns if c != 'level_group']\n",
    "print(len(features))\n",
    "user_list = df.index.unique()\n",
    "print(len(user_list))"
   ]
  },
  {
   "cell_type": "code",
   "execution_count": 9,
   "id": "e235c100",
   "metadata": {
    "execution": {
     "iopub.execute_input": "2023-07-19T00:02:59.347629Z",
     "iopub.status.busy": "2023-07-19T00:02:59.346936Z",
     "iopub.status.idle": "2023-07-19T00:04:23.404550Z",
     "shell.execute_reply": "2023-07-19T00:04:23.402970Z"
    },
    "papermill": {
     "duration": 84.067159,
     "end_time": "2023-07-19T00:04:23.406965",
     "exception": false,
     "start_time": "2023-07-19T00:02:59.339806",
     "status": "completed"
    },
    "tags": []
   },
   "outputs": [
    {
     "name": "stdout",
     "output_type": "stream",
     "text": [
      "#########################\n",
      "### Fold 1\n",
      "#########################\n",
      "1(203), 2(111), 3(172), 4(279), 5(136), 6(112), 7(68), 8(87), 9(152), 10(174), 11(107), 12(100), 13(157), 14(204), 15(138), 16(62), 17(55), 18(148), \n",
      "#########################\n",
      "### Fold 2\n",
      "#########################\n",
      "1(193), 2(145), 3(133), 4(115), 5(115), 6(95), 7(129), 8(53), 9(135), 10(96), 11(114), 12(138), 13(253), 14(198), 15(222), 16(128), 17(80), 18(120), \n",
      "#########################\n",
      "### Fold 3\n",
      "#########################\n",
      "1(180), 2(190), 3(109), 4(190), 5(105), 6(101), 7(113), 8(71), 9(100), 10(173), 11(64), 12(72), 13(74), 14(202), 15(199), 16(72), 17(144), 18(192), \n",
      "#########################\n",
      "### Fold 4\n",
      "#########################\n",
      "1(179), 2(130), 3(107), 4(172), 5(131), 6(130), 7(91), 8(70), 9(89), 10(112), 11(150), 12(120), 13(157), 14(193), 15(229), 16(79), 17(75), 18(228), \n",
      "#########################\n",
      "### Fold 5\n",
      "#########################\n",
      "1(156), 2(131), 3(188), 4(234), 5(161), 6(111), 7(109), 8(52), 9(99), 10(213), 11(71), 12(184), 13(179), 14(182), 15(213), 16(57), 17(97), 18(209), \n"
     ]
    }
   ],
   "source": [
    "gkf = GroupKFold(n_splits=5)\n",
    "oof = pd.DataFrame(data=np.zeros((len(user_list),18)), index=user_list)\n",
    "models = {}\n",
    "\n",
    "# CV score with 5 group kfold\n",
    "for i, (train_index, test_index) in enumerate(gkf.split(X=df, groups=df.index)):\n",
    "    print('#'*25)\n",
    "    print('### Fold',i+1)\n",
    "    print('#'*25)\n",
    "    \n",
    "    xgb_params = {\n",
    "    'objective' : 'binary:logistic',\n",
    "    'eval_metric':'logloss',\n",
    "    'learning_rate': 0.05,\n",
    "    'max_depth': 4,\n",
    "    'n_estimators': 1000,\n",
    "    'early_stopping_rounds': 50,\n",
    "    'tree_method':'hist',\n",
    "    'subsample':0.8,\n",
    "    'colsample_bytree': 0.4}\n",
    "    \n",
    "    # Iterate through questions in labels df\n",
    "    for t in range(1,19):\n",
    "        \n",
    "        # Use this to train data based on groupings that match training set\n",
    "        if t<=3: grp = '0-4'\n",
    "        elif t<=13: grp = '5-12'\n",
    "        elif t<=22: grp = '13-22'\n",
    "            \n",
    "        # TRAIN DATA\n",
    "        train_x = df.iloc[train_index]\n",
    "        train_x = train_x.loc[train_x.level_group == grp]\n",
    "        train_users = train_x.index.values\n",
    "        train_y = labels.loc[labels.q_answered==t].set_index('session').loc[train_users]\n",
    "        \n",
    "        # VALID DATA\n",
    "        valid_x = df.iloc[test_index]\n",
    "        valid_x = valid_x.loc[valid_x.level_group == grp]\n",
    "        valid_users = valid_x.index.values\n",
    "        valid_y = labels.loc[labels.q_answered==t].set_index('session').loc[valid_users]\n",
    "        \n",
    "        # Train Model        \n",
    "        clf =  XGBClassifier(**xgb_params)\n",
    "        clf.fit(train_x[features].astype('float32'), train_y['correct'],\n",
    "                eval_set=[ (valid_x[features].astype('float32'), valid_y['correct']) ],\n",
    "                verbose=0)\n",
    "        print(f'{t}({clf.best_ntree_limit}), ',end='')\n",
    "        \n",
    "        # Save model, predict valid OOF\n",
    "        models[f'{grp}_{t}'] = clf\n",
    "        oof.loc[valid_users, t-1] = clf.predict_proba(valid_x[features].astype('float32'))[:,1]\n",
    "        \n",
    "    print()"
   ]
  },
  {
   "cell_type": "markdown",
   "id": "12eab29a",
   "metadata": {
    "papermill": {
     "duration": 0.010851,
     "end_time": "2023-07-19T00:04:23.430122",
     "exception": false,
     "start_time": "2023-07-19T00:04:23.419271",
     "status": "completed"
    },
    "tags": []
   },
   "source": [
    "### <center style=\"background-color:Gainsboro; width:60%;\">Compute CV Score</center>\n",
    "Again borrowing from a baseline submission on Kaggle given RAM limitations..."
   ]
  },
  {
   "cell_type": "code",
   "execution_count": 10,
   "id": "f2635134",
   "metadata": {
    "execution": {
     "iopub.execute_input": "2023-07-19T00:04:23.454321Z",
     "iopub.status.busy": "2023-07-19T00:04:23.453897Z",
     "iopub.status.idle": "2023-07-19T00:04:23.548759Z",
     "shell.execute_reply": "2023-07-19T00:04:23.547716Z"
    },
    "papermill": {
     "duration": 0.110394,
     "end_time": "2023-07-19T00:04:23.551512",
     "exception": false,
     "start_time": "2023-07-19T00:04:23.441118",
     "status": "completed"
    },
    "tags": []
   },
   "outputs": [],
   "source": [
    "# Create DF with 18 columns\n",
    "true = oof.copy()\n",
    "for k in range(18):\n",
    "    tmp = labels.loc[labels.q_answered == k+1].set_index('session').loc[user_list]\n",
    "    true[k] = tmp.correct.values"
   ]
  },
  {
   "cell_type": "code",
   "execution_count": 11,
   "id": "3fa226be",
   "metadata": {
    "execution": {
     "iopub.execute_input": "2023-07-19T00:04:23.575349Z",
     "iopub.status.busy": "2023-07-19T00:04:23.574962Z",
     "iopub.status.idle": "2023-07-19T00:04:26.699243Z",
     "shell.execute_reply": "2023-07-19T00:04:26.697829Z"
    },
    "papermill": {
     "duration": 3.139078,
     "end_time": "2023-07-19T00:04:26.701821",
     "exception": false,
     "start_time": "2023-07-19T00:04:23.562743",
     "status": "completed"
    },
    "tags": []
   },
   "outputs": [
    {
     "name": "stdout",
     "output_type": "stream",
     "text": [
      "0.50, 0.51, 0.52, 0.53, 0.54, 0.55, 0.56, 0.57, 0.58, 0.59, 0.60, 0.61, 0.62, 0.63, 0.64, 0.65, 0.66, 0.67, 0.68, 0.69, 0.70, 0.71, 0.72, 0.73, 0.74, 0.75, 0.76, 0.77, 0.78, "
     ]
    }
   ],
   "source": [
    "# Determine best threshold for converting probabilities into 1s and 0s\n",
    "scores = []; thresholds = []\n",
    "best_score = 0; best_threshold = 0\n",
    "\n",
    "for threshold in np.arange(0.50,0.78,0.01):\n",
    "    print(f'{threshold:.02f}, ',end='')\n",
    "    preds = (oof.values.reshape((-1))>threshold).astype('int')\n",
    "    m = f1_score(true.values.reshape((-1)), preds, average='macro')   \n",
    "    scores.append(m)\n",
    "    thresholds.append(threshold)\n",
    "    if m>best_score:\n",
    "        best_score = m\n",
    "        best_threshold = threshold"
   ]
  },
  {
   "cell_type": "code",
   "execution_count": 12,
   "id": "f34ff7a0",
   "metadata": {
    "execution": {
     "iopub.execute_input": "2023-07-19T00:04:26.730381Z",
     "iopub.status.busy": "2023-07-19T00:04:26.729981Z",
     "iopub.status.idle": "2023-07-19T00:04:27.045272Z",
     "shell.execute_reply": "2023-07-19T00:04:27.043985Z"
    },
    "papermill": {
     "duration": 0.331781,
     "end_time": "2023-07-19T00:04:27.048124",
     "exception": false,
     "start_time": "2023-07-19T00:04:26.716343",
     "status": "completed"
    },
    "tags": []
   },
   "outputs": [
    {
     "data": {
      "image/png": "[encoded data removed]",
      "text/plain": [
       "<Figure size 2000x500 with 1 Axes>"
      ]
     },
     "metadata": {},
     "output_type": "display_data"
    }
   ],
   "source": [
    "# Plot\n",
    "plt.figure(figsize=(20,5))\n",
    "plt.plot(thresholds,scores,'-o',color='cyan')\n",
    "plt.scatter([best_threshold], [best_score], color='black', s=300, alpha=1)\n",
    "plt.xlabel('Threshold',size=14)\n",
    "plt.ylabel('Validation F1 Score',size=14)\n",
    "plt.title(f'Threshold vs. F1_Score with Best F1_Score = {best_score:.3f} at Best Threshold = {best_threshold:.3}',size=18)\n",
    "plt.show()"
   ]
  },
  {
   "cell_type": "code",
   "execution_count": 13,
   "id": "55d6b407",
   "metadata": {
    "execution": {
     "iopub.execute_input": "2023-07-19T00:04:27.077392Z",
     "iopub.status.busy": "2023-07-19T00:04:27.076843Z",
     "iopub.status.idle": "2023-07-19T00:04:27.312987Z",
     "shell.execute_reply": "2023-07-19T00:04:27.311594Z"
    },
    "papermill": {
     "duration": 0.253073,
     "end_time": "2023-07-19T00:04:27.315033",
     "exception": false,
     "start_time": "2023-07-19T00:04:27.061960",
     "status": "completed"
    },
    "tags": []
   },
   "outputs": [
    {
     "name": "stdout",
     "output_type": "stream",
     "text": [
      "When using optimal threshold...\n",
      "Q0: F1 = 0.5988997759257804\n",
      "Q1: F1 = 0.49462711537224113\n",
      "Q2: F1 = 0.4872240555363134\n",
      "Q3: F1 = 0.6135720682831779\n",
      "Q4: F1 = 0.5730062007340059\n",
      "Q5: F1 = 0.6085708935193549\n",
      "Q6: F1 = 0.5844127249512925\n",
      "Q7: F1 = 0.534353127804959\n",
      "Q8: F1 = 0.5976904938224648\n",
      "Q9: F1 = 0.5164169383157339\n",
      "Q10: F1 = 0.5874781473455001\n",
      "Q11: F1 = 0.4962597836513874\n",
      "Q12: F1 = 0.43805071377181115\n",
      "Q13: F1 = 0.6072980717879813\n",
      "Q14: F1 = 0.5102407369464745\n",
      "Q15: F1 = 0.4670639554216723\n",
      "Q16: F1 = 0.5352604743303182\n",
      "Q17: F1 = 0.49501655335114375\n",
      "==> Overall F1 = 0.6779460794067447\n"
     ]
    }
   ],
   "source": [
    "print('When using optimal threshold...')\n",
    "for k in range(18):\n",
    "        \n",
    "    # COMPUTE F1 SCORE PER QUESTION\n",
    "    m = f1_score(true[k].values, (oof[k].values>best_threshold).astype('int'), average='macro')\n",
    "    print(f'Q{k}: F1 =',m)\n",
    "    \n",
    "# COMPUTE F1 SCORE OVERALL\n",
    "m = f1_score(true.values.reshape((-1)), (oof.values.reshape((-1))>best_threshold).astype('int'), average='macro')\n",
    "print('==> Overall F1 =',m)"
   ]
  },
  {
   "cell_type": "markdown",
   "id": "be7e07b6",
   "metadata": {
    "papermill": {
     "duration": 0.013194,
     "end_time": "2023-07-19T00:04:27.343026",
     "exception": false,
     "start_time": "2023-07-19T00:04:27.329832",
     "status": "completed"
    },
    "tags": []
   },
   "source": [
    "### <center style=\"background-color:Gainsboro; width:60%;\">Submission</center>"
   ]
  },
  {
   "cell_type": "code",
   "execution_count": 14,
   "id": "6bc9c0c0",
   "metadata": {
    "execution": {
     "iopub.execute_input": "2023-07-19T00:04:27.371983Z",
     "iopub.status.busy": "2023-07-19T00:04:27.371340Z",
     "iopub.status.idle": "2023-07-19T00:04:27.384532Z",
     "shell.execute_reply": "2023-07-19T00:04:27.383399Z"
    },
    "papermill": {
     "duration": 0.029969,
     "end_time": "2023-07-19T00:04:27.386417",
     "exception": false,
     "start_time": "2023-07-19T00:04:27.356448",
     "status": "completed"
    },
    "tags": []
   },
   "outputs": [
    {
     "data": {
      "text/html": [
       "<div>\n",
       "<style scoped>\n",
       "    .dataframe tbody tr th:only-of-type {\n",
       "        vertical-align: middle;\n",
       "    }\n",
       "\n",
       "    .dataframe tbody tr th {\n",
       "        vertical-align: top;\n",
       "    }\n",
       "\n",
       "    .dataframe thead th {\n",
       "        text-align: right;\n",
       "    }\n",
       "</style>\n",
       "<table border=\"1\" class=\"dataframe\">\n",
       "  <thead>\n",
       "    <tr style=\"text-align: right;\">\n",
       "      <th></th>\n",
       "      <th>0</th>\n",
       "      <th>1</th>\n",
       "      <th>2</th>\n",
       "      <th>3</th>\n",
       "      <th>4</th>\n",
       "      <th>5</th>\n",
       "      <th>6</th>\n",
       "      <th>7</th>\n",
       "      <th>8</th>\n",
       "      <th>9</th>\n",
       "      <th>10</th>\n",
       "      <th>11</th>\n",
       "      <th>12</th>\n",
       "      <th>13</th>\n",
       "      <th>14</th>\n",
       "      <th>15</th>\n",
       "      <th>16</th>\n",
       "      <th>17</th>\n",
       "    </tr>\n",
       "    <tr>\n",
       "      <th>session_id</th>\n",
       "      <th></th>\n",
       "      <th></th>\n",
       "      <th></th>\n",
       "      <th></th>\n",
       "      <th></th>\n",
       "      <th></th>\n",
       "      <th></th>\n",
       "      <th></th>\n",
       "      <th></th>\n",
       "      <th></th>\n",
       "      <th></th>\n",
       "      <th></th>\n",
       "      <th></th>\n",
       "      <th></th>\n",
       "      <th></th>\n",
       "      <th></th>\n",
       "      <th></th>\n",
       "      <th></th>\n",
       "    </tr>\n",
       "  </thead>\n",
       "  <tbody>\n",
       "    <tr>\n",
       "      <th>20090312431273200</th>\n",
       "      <td>1</td>\n",
       "      <td>1</td>\n",
       "      <td>1</td>\n",
       "      <td>1</td>\n",
       "      <td>1</td>\n",
       "      <td>1</td>\n",
       "      <td>1</td>\n",
       "      <td>1</td>\n",
       "      <td>1</td>\n",
       "      <td>1</td>\n",
       "      <td>1</td>\n",
       "      <td>1</td>\n",
       "      <td>0</td>\n",
       "      <td>1</td>\n",
       "      <td>1</td>\n",
       "      <td>0</td>\n",
       "      <td>1</td>\n",
       "      <td>1</td>\n",
       "    </tr>\n",
       "    <tr>\n",
       "      <th>20090312433251036</th>\n",
       "      <td>0</td>\n",
       "      <td>1</td>\n",
       "      <td>1</td>\n",
       "      <td>1</td>\n",
       "      <td>0</td>\n",
       "      <td>1</td>\n",
       "      <td>1</td>\n",
       "      <td>0</td>\n",
       "      <td>1</td>\n",
       "      <td>0</td>\n",
       "      <td>0</td>\n",
       "      <td>1</td>\n",
       "      <td>0</td>\n",
       "      <td>1</td>\n",
       "      <td>0</td>\n",
       "      <td>1</td>\n",
       "      <td>0</td>\n",
       "      <td>1</td>\n",
       "    </tr>\n",
       "    <tr>\n",
       "      <th>20090312455206810</th>\n",
       "      <td>1</td>\n",
       "      <td>1</td>\n",
       "      <td>1</td>\n",
       "      <td>1</td>\n",
       "      <td>1</td>\n",
       "      <td>1</td>\n",
       "      <td>1</td>\n",
       "      <td>1</td>\n",
       "      <td>1</td>\n",
       "      <td>1</td>\n",
       "      <td>1</td>\n",
       "      <td>1</td>\n",
       "      <td>1</td>\n",
       "      <td>1</td>\n",
       "      <td>0</td>\n",
       "      <td>1</td>\n",
       "      <td>1</td>\n",
       "      <td>1</td>\n",
       "    </tr>\n",
       "    <tr>\n",
       "      <th>20090313091715820</th>\n",
       "      <td>0</td>\n",
       "      <td>1</td>\n",
       "      <td>1</td>\n",
       "      <td>1</td>\n",
       "      <td>1</td>\n",
       "      <td>0</td>\n",
       "      <td>1</td>\n",
       "      <td>1</td>\n",
       "      <td>1</td>\n",
       "      <td>0</td>\n",
       "      <td>0</td>\n",
       "      <td>1</td>\n",
       "      <td>0</td>\n",
       "      <td>1</td>\n",
       "      <td>0</td>\n",
       "      <td>1</td>\n",
       "      <td>1</td>\n",
       "      <td>1</td>\n",
       "    </tr>\n",
       "    <tr>\n",
       "      <th>20090313571836404</th>\n",
       "      <td>1</td>\n",
       "      <td>1</td>\n",
       "      <td>1</td>\n",
       "      <td>1</td>\n",
       "      <td>1</td>\n",
       "      <td>1</td>\n",
       "      <td>1</td>\n",
       "      <td>1</td>\n",
       "      <td>1</td>\n",
       "      <td>1</td>\n",
       "      <td>1</td>\n",
       "      <td>0</td>\n",
       "      <td>1</td>\n",
       "      <td>0</td>\n",
       "      <td>1</td>\n",
       "      <td>1</td>\n",
       "      <td>1</td>\n",
       "      <td>1</td>\n",
       "    </tr>\n",
       "  </tbody>\n",
       "</table>\n",
       "</div>"
      ],
      "text/plain": [
       "                   0   1   2   3   4   5   6   7   8   9   10  11  12  13  14  \\\n",
       "session_id                                                                      \n",
       "20090312431273200   1   1   1   1   1   1   1   1   1   1   1   1   0   1   1   \n",
       "20090312433251036   0   1   1   1   0   1   1   0   1   0   0   1   0   1   0   \n",
       "20090312455206810   1   1   1   1   1   1   1   1   1   1   1   1   1   1   0   \n",
       "20090313091715820   0   1   1   1   1   0   1   1   1   0   0   1   0   1   0   \n",
       "20090313571836404   1   1   1   1   1   1   1   1   1   1   1   0   1   0   1   \n",
       "\n",
       "                   15  16  17  \n",
       "session_id                     \n",
       "20090312431273200   0   1   1  \n",
       "20090312433251036   1   0   1  \n",
       "20090312455206810   1   1   1  \n",
       "20090313091715820   1   1   1  \n",
       "20090313571836404   1   1   1  "
      ]
     },
     "execution_count": 14,
     "metadata": {},
     "output_type": "execute_result"
    }
   ],
   "source": [
    "true.head()"
   ]
  },
  {
   "cell_type": "code",
   "execution_count": 15,
   "id": "f1b1f52f",
   "metadata": {
    "execution": {
     "iopub.execute_input": "2023-07-19T00:04:27.416463Z",
     "iopub.status.busy": "2023-07-19T00:04:27.415564Z",
     "iopub.status.idle": "2023-07-19T00:04:27.731100Z",
     "shell.execute_reply": "2023-07-19T00:04:27.730064Z"
    },
    "papermill": {
     "duration": 0.331951,
     "end_time": "2023-07-19T00:04:27.732362",
     "exception": true,
     "start_time": "2023-07-19T00:04:27.400411",
     "status": "failed"
    },
    "tags": []
   },
   "outputs": [
    {
     "ename": "ModuleNotFoundError",
     "evalue": "No module named 'jo_wilder.competition'",
     "output_type": "error",
     "traceback": [
      "\u001b[0;31m---------------------------------------------------------------------------\u001b[0m",
      "\u001b[0;31mModuleNotFoundError\u001b[0m                       Traceback (most recent call last)",
      "Cell \u001b[0;32mIn[15], line 2\u001b[0m\n\u001b[1;32m      1\u001b[0m \u001b[38;5;66;03m# IMPORT KAGGLE API\u001b[39;00m\n\u001b[0;32m----> 2\u001b[0m \u001b[38;5;28;01mimport\u001b[39;00m \u001b[38;5;21;01mjo_wilder\u001b[39;00m\n\u001b[1;32m      3\u001b[0m env \u001b[38;5;241m=\u001b[39m jo_wilder\u001b[38;5;241m.\u001b[39mmake_env()\n\u001b[1;32m      4\u001b[0m iter_test \u001b[38;5;241m=\u001b[39m env\u001b[38;5;241m.\u001b[39miter_test()\n",
      "File \u001b[0;32m/kaggle/input/predict-student-performance-from-game-play/jo_wilder/__init__.py:2\u001b[0m\n\u001b[0;32m----> 2\u001b[0m \u001b[38;5;28;01mfrom\u001b[39;00m \u001b[38;5;21;01m.\u001b[39;00m\u001b[38;5;21;01mcompetition\u001b[39;00m \u001b[38;5;28;01mimport\u001b[39;00m make_env\n\u001b[1;32m      4\u001b[0m __all__ \u001b[38;5;241m=\u001b[39m [\u001b[38;5;124m'\u001b[39m\u001b[38;5;124mmake_env\u001b[39m\u001b[38;5;124m'\u001b[39m]\n",
      "\u001b[0;31mModuleNotFoundError\u001b[0m: No module named 'jo_wilder.competition'"
     ]
    }
   ],
   "source": [
    "# IMPORT KAGGLE API\n",
    "import jo_wilder\n",
    "env = jo_wilder.make_env()\n",
    "iter_test = env.iter_test()\n",
    "\n",
    "# CLEAR MEMORY\n",
    "import gc\n",
    "del targets, df, oof, true\n",
    "_ = gc.collect()"
   ]
  }
 ],
 "metadata": {
  "kernelspec": {
   "display_name": "Python 3",
   "language": "python",
   "name": "python3"
  },
  "language_info": {
   "codemirror_mode": {
    "name": "ipython",
    "version": 3
   },
   "file_extension": ".py",
   "mimetype": "text/x-python",
   "name": "python",
   "nbconvert_exporter": "python",
   "pygments_lexer": "ipython3",
   "version": "3.10.12"
  },
  "papermill": {
   "default_parameters": {},
   "duration": 440.992546,
   "end_time": "2023-07-19T00:04:28.873959",
   "environment_variables": {},
   "exception": true,
   "input_path": "__notebook__.ipynb",
   "output_path": "__notebook__.ipynb",
   "parameters": {},
   "start_time": "2023-07-18T23:57:07.881413",
   "version": "2.4.0"
  }
 },
 "nbformat": 4,
 "nbformat_minor": 5
}
